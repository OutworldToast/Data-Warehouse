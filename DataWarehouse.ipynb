{
 "cells": [
  {
   "cell_type": "markdown",
   "metadata": {},
   "source": [
    "Packages importeren"
   ]
  },
  {
   "cell_type": "code",
   "execution_count": null,
   "metadata": {},
   "outputs": [],
   "source": [
    "import pandas as pd\n",
    "import numpy as np\n",
    "import datetime as dt\n",
    "import pyodbc\n",
    "import sqlite3"
   ]
  },
  {
   "cell_type": "markdown",
   "metadata": {},
   "source": [
    "Connectie maken met Data Warehouse"
   ]
  },
  {
   "cell_type": "code",
   "execution_count": null,
   "metadata": {},
   "outputs": [],
   "source": [
    "DB = {'servername': 'ENVY-AKRAM\\\\SQLEXPRESS','database': 'Great Outdoors - Akram en Sylvan'}\n",
    "export_conn = pyodbc.connect('DRIVER={SQL Server};SERVER=' + DB['servername'] + ';DATABASE=' + DB['database'] + ';Trusted_Connection=yes')\n",
    "export_cursor = export_conn.cursor()\n",
    "export_cursor"
   ]
  },
  {
   "cell_type": "markdown",
   "metadata": {},
   "source": [
    "Connectie maken met brongegevens"
   ]
  },
  {
   "cell_type": "code",
   "execution_count": null,
   "metadata": {},
   "outputs": [],
   "source": [
    "go_sales_connection = sqlite3.connect('Data\\\\Brongegevens\\\\go_sales.sqlite')\n",
    "go_crm_connection = sqlite3.connect('Data\\\\Brongegevens\\\\go_crm.sqlite')\n",
    "go_staff_connection = sqlite3.connect('Data\\\\Brongegevens\\\\go_staff.sqlite')\n",
    "df_inventory = pd.read_csv('Data\\\\Brongegevens\\\\GO_SALES_INVENTORY_LEVELSData.csv')\n",
    "df_product = pd.read_csv('Data\\\\Brongegevens\\\\GO_SALES_PRODUCT_FORECASTData.csv')"
   ]
  },
  {
   "cell_type": "markdown",
   "metadata": {},
   "source": [
    "Helper functie tables inlezen"
   ]
  },
  {
   "cell_type": "code",
   "execution_count": null,
   "metadata": {},
   "outputs": [],
   "source": [
    "def readTable(connection, table):\n",
    "    query = 'SELECT * FROM ' + table\n",
    "    result = pd.read_sql_query(query, connection)\n",
    "    result = result.loc[:, ~result.columns.str.contains('trial', case=False)]\n",
    "    #verwijder trials\n",
    "    return result"
   ]
  },
  {
   "cell_type": "markdown",
   "metadata": {},
   "source": [
    "Database Go Sales"
   ]
  },
  {
   "cell_type": "code",
   "execution_count": null,
   "metadata": {},
   "outputs": [],
   "source": [
    "tables = pd.read_sql('SELECT name FROM sqlite_master WHERE type=\"table\"', go_sales_connection)\n",
    "country_go_sales = readTable(go_sales_connection, 'country')\n",
    "order_details = readTable(go_sales_connection, 'order_details')\n",
    "order_header = readTable(go_sales_connection, 'order_header')\n",
    "order_method = readTable(go_sales_connection, 'order_method')\n",
    "product = readTable(go_sales_connection, 'product')\n",
    "product_line = readTable(go_sales_connection, 'product_line')\n",
    "product_type = readTable(go_sales_connection, 'product_type')\n",
    "retailer_site_go_sales = readTable(go_sales_connection, 'retailer_site')\n",
    "return_reason = readTable(go_sales_connection, 'return_reason')\n",
    "sales_branch_go_sales = readTable(go_sales_connection, 'sales_branch')\n",
    "sales_staff_go_sales = readTable(go_sales_connection, 'sales_staff')\n",
    "sales_targetdata = readTable(go_sales_connection, 'SALES_TARGETData')\n",
    "tables  \n"
   ]
  },
  {
   "cell_type": "markdown",
   "metadata": {},
   "source": [
    "Database Go Staff"
   ]
  },
  {
   "cell_type": "code",
   "execution_count": null,
   "metadata": {},
   "outputs": [],
   "source": [
    "tables = pd.read_sql('SELECT name FROM sqlite_master WHERE type=\"table\"', go_staff_connection)\n",
    "course = readTable(go_staff_connection, 'course')\n",
    "sales_branch_go_staff = readTable(go_staff_connection, 'sales_branch')\n",
    "sales_staff_go_staff = readTable(go_staff_connection, 'sales_staff')\n",
    "satisfaction = readTable(go_staff_connection, 'satisfaction')\n",
    "satisfaction_type = readTable(go_staff_connection, 'satisfaction_type')\n",
    "training = readTable(go_staff_connection, 'training')\n",
    "tables\n"
   ]
  },
  {
   "cell_type": "markdown",
   "metadata": {},
   "source": [
    "Database Go Crm"
   ]
  },
  {
   "cell_type": "code",
   "execution_count": null,
   "metadata": {},
   "outputs": [],
   "source": [
    "tables = pd.read_sql('SELECT name FROM sqlite_master WHERE type=\"table\"', go_crm_connection)\n",
    "age_group = readTable(go_crm_connection, 'age_group')\n",
    "country_go_crm = readTable(go_crm_connection, 'country')\n",
    "retailer = readTable(go_crm_connection, 'retailer')\n",
    "retailer_contact = readTable(go_crm_connection, 'retailer_contact')\n",
    "retailer_headquarters = readTable(go_crm_connection, 'retailer_headquarters')\n",
    "retailer_segment = readTable(go_crm_connection, 'retailer_segment')\n",
    "retailer_site_go_crm = readTable(go_crm_connection, 'retailer_site')\n",
    "retailer_type = readTable(go_crm_connection, 'retailer_type')\n",
    "sales_demographic = readTable(go_crm_connection, 'sales_demographic')\n",
    "sales_territory = readTable(go_crm_connection, 'sales_territory')\n",
    "tables\n",
    "\n",
    "retailer_headquarters\n"
   ]
  },
  {
   "cell_type": "markdown",
   "metadata": {},
   "source": [
    "# Unions"
   ]
  },
  {
   "cell_type": "code",
   "execution_count": null,
   "metadata": {},
   "outputs": [],
   "source": [
    "sales_staff_union = pd.concat([sales_staff_go_staff, sales_staff_go_sales])\n",
    "sales_staff_union.drop_duplicates(subset='SALES_STAFF_CODE', ignore_index=True, inplace=True)\n",
    "sales_staff_union\n",
    "#heeft overwegingen nodig op: \n",
    "#manager_code\n"
   ]
  },
  {
   "cell_type": "code",
   "execution_count": null,
   "metadata": {},
   "outputs": [],
   "source": [
    "sales_branch_union = pd.concat([sales_branch_go_staff, sales_branch_go_sales])\n",
    "sales_branch_union.drop_duplicates(subset='SALES_BRANCH_CODE', ignore_index=True, inplace=True)\n",
    "sales_branch_union"
   ]
  },
  {
   "cell_type": "code",
   "execution_count": null,
   "metadata": {},
   "outputs": [],
   "source": [
    "retailer_site_union = pd.concat([retailer_site_go_crm, retailer_site_go_sales])\n",
    "retailer_site_union.drop_duplicates(subset='RETAILER_SITE_CODE', ignore_index=True, inplace=True)\n",
    "retailer_site_union"
   ]
  },
  {
   "cell_type": "code",
   "execution_count": null,
   "metadata": {},
   "outputs": [],
   "source": [
    "country_go_crm_union = pd.merge(country_go_crm, sales_territory, on='SALES_TERRITORY_CODE', how='outer')\n",
    "country_union = pd.merge(country_go_sales, country_go_crm_union, on='COUNTRY_CODE', how='outer')\n",
    "country_union.drop_duplicates(subset='COUNTRY_CODE', ignore_index=True, inplace=True)\n",
    "country_union\n",
    "#not actually a union"
   ]
  },
  {
   "cell_type": "markdown",
   "metadata": {},
   "source": [
    "# Verborgen Dimensies"
   ]
  },
  {
   "cell_type": "markdown",
   "metadata": {},
   "source": [
    "Date"
   ]
  },
  {
   "cell_type": "code",
   "execution_count": null,
   "metadata": {},
   "outputs": [],
   "source": [
    "date_dict = {'DATE_DATE':[], 'DATE_YEAR':[], 'DATE_QUARTER':[], 'DATE_MONTH':[], 'DATE_DAY':[]}\n",
    "\n",
    "date_dw = pd.DataFrame(date_dict)\n",
    "date_dw"
   ]
  },
  {
   "cell_type": "markdown",
   "metadata": {},
   "source": [
    "ToDate() Functions"
   ]
  },
  {
   "cell_type": "code",
   "execution_count": null,
   "metadata": {},
   "outputs": [],
   "source": [
    "#??"
   ]
  },
  {
   "cell_type": "markdown",
   "metadata": {},
   "source": [
    "Month"
   ]
  },
  {
   "cell_type": "code",
   "execution_count": null,
   "metadata": {},
   "outputs": [],
   "source": [
    "#iets"
   ]
  },
  {
   "cell_type": "markdown",
   "metadata": {},
   "source": [
    "# Simpele Dimensies"
   ]
  },
  {
   "cell_type": "markdown",
   "metadata": {},
   "source": [
    "Return Reason"
   ]
  },
  {
   "cell_type": "code",
   "execution_count": null,
   "metadata": {},
   "outputs": [],
   "source": [
    "def ToReasonCategory(str):\n",
    "\n",
    "    if 'wrong' in str.lower():\n",
    "        return 'Wrong Product'\n",
    "    elif 'unsatisfactory' in str.lower():\n",
    "        return 'Unsatisfactory'\n",
    "    else:\n",
    "        return 'Faulty'\n",
    "\n",
    "return_reason_dw = return_reason.copy()\n",
    "return_reason_dw['RETURN_CATEGORY'] = return_reason_dw['RETURN_DESCRIPTION_EN'].apply(ToReasonCategory)\n",
    "return_reason_dw"
   ]
  },
  {
   "cell_type": "markdown",
   "metadata": {},
   "source": [
    "Course"
   ]
  },
  {
   "cell_type": "code",
   "execution_count": null,
   "metadata": {},
   "outputs": [],
   "source": [
    "def ToCourseCategory(str):\n",
    "\n",
    "    if 'marketing' in str.lower():\n",
    "        return 'Marketing'\n",
    "    elif 'sales' in str.lower():\n",
    "        return 'Sales'\n",
    "    elif 'management' in str.lower():\n",
    "        return 'Management'\n",
    "    elif 'communication' in str.lower():\n",
    "        return 'Communication'\n",
    "    elif 'orientation' in str.lower():\n",
    "        return 'Orientation'\n",
    "    else: \n",
    "        return 'Other'\n",
    "\n",
    "course_dw = course.copy()\n",
    "course_dw['COURSE_CATEGORY'] = course_dw['COURSE_DESCRIPTION'].apply(ToCourseCategory)\n",
    "course_dw\n"
   ]
  },
  {
   "cell_type": "markdown",
   "metadata": {},
   "source": [
    "Order Method"
   ]
  },
  {
   "cell_type": "code",
   "execution_count": null,
   "metadata": {},
   "outputs": [],
   "source": [
    "order_method_dw = order_method.copy()\n",
    "#fuck de categorie"
   ]
  },
  {
   "cell_type": "markdown",
   "metadata": {},
   "source": [
    "Satisfaction Type"
   ]
  },
  {
   "cell_type": "code",
   "execution_count": null,
   "metadata": {},
   "outputs": [],
   "source": [
    "def ToSatisfied(nr):\n",
    "    try:\n",
    "        return int(nr) >= 3\n",
    "    except ValueError:\n",
    "        return False\n",
    "\n",
    "satisfaction_type_dw = satisfaction_type.copy\n",
    "satisfaction_type_dw['SATISFIED_BOOLEAN'] = satisfaction_type['SATISFACTION_TYPE_CODE'].apply(ToSatisfied)\n",
    "satisfaction_type_dw"
   ]
  },
  {
   "cell_type": "markdown",
   "metadata": {},
   "source": [
    "# Merges (dimensies)"
   ]
  },
  {
   "cell_type": "markdown",
   "metadata": {},
   "source": [
    "Retailer Headquarters"
   ]
  },
  {
   "cell_type": "code",
   "execution_count": null,
   "metadata": {},
   "outputs": [],
   "source": [
    "retailer_headquarters_dw = pd.merge(\n",
    "    retailer_headquarters.add_prefix('RT_HEADQUARTERS_'), country_union.add_prefix('COUNTRY_'), \n",
    "    left_on = 'RT_HEADQUARTERS_COUNTRY_CODE', right_on='COUNTRY_COUNTRY_CODE', how='outer')\n",
    "retailer_headquarters_dw = pd.merge(\n",
    "    retailer_headquarters_dw, retailer_segment.add_prefix('RT_SEGMENT_'), \n",
    "    left_on = 'RT_HEADQUARTERS_SEGMENT_CODE', right_on='RT_SEGMENT_SEGMENT_CODE', how='outer')\n",
    "#segment category\n",
    "retailer_headquarters_dw"
   ]
  },
  {
   "cell_type": "markdown",
   "metadata": {},
   "source": [
    "Retailer Contact"
   ]
  },
  {
   "cell_type": "code",
   "execution_count": null,
   "metadata": {},
   "outputs": [],
   "source": [
    "retailer_contact_dw = pd.merge(\n",
    "    retailer_contact.add_prefix('RT_CONTACT_'), retailer_site_union.add_prefix('RT_SITE_'), \n",
    "    left_on='RT_CONTACT_RETAILER_SITE_CODE', right_on='RT_SITE_RETAILER_SITE_CODE', how='inner')\n",
    "#position category\n",
    "retailer_contact_dw = pd.merge(\n",
    "    retailer_contact_dw, retailer.add_prefix('RT_'), \n",
    "    left_on='RT_SITE_RETAILER_CODE', right_on='RT_RETAILER_CODE', how='inner')\n",
    "retailer_contact_dw = pd.merge(\n",
    "    retailer_contact_dw, retailer_type.add_prefix('RT_TYPE_'), \n",
    "    left_on='RT_RETAILER_TYPE_CODE', right_on='RT_TYPE_RETAILER_TYPE_CODE', how='inner')\n",
    "retailer_contact_dw = pd.merge(\n",
    "    retailer_contact_dw, retailer_headquarters_dw, \n",
    "    left_on='RT_RETAILER_CODEMR', right_on='RT_HEADQUARTERS_RETAILER_CODEMR', how='inner')\n",
    "retailer_contact_dw\n",
    "#trial222/888\n",
    "#loc: any non americas?"
   ]
  },
  {
   "cell_type": "markdown",
   "metadata": {},
   "source": [
    "Sales Staff"
   ]
  },
  {
   "cell_type": "code",
   "execution_count": null,
   "metadata": {},
   "outputs": [],
   "source": [
    "sales_staff_dw = pd.merge(\n",
    "    sales_staff_union.add_prefix('SALES_STAFF_'), sales_branch_union.add_prefix('SALES_BRANCH_'), \n",
    "    left_on='SALES_STAFF_SALES_BRANCH_CODE', right_on='SALES_BRANCH_SALES_BRANCH_CODE', how='inner')\n",
    "sales_staff_dw = pd.merge(\n",
    "    sales_staff_dw, country_go_sales.add_prefix('COUNTRY_'),\n",
    "    left_on='SALES_BRANCH_COUNTRY_CODE', right_on='COUNTRY_COUNTRY_CODE', how='inner')\n",
    "sales_staff_dw\n",
    "#trial633/888"
   ]
  },
  {
   "cell_type": "markdown",
   "metadata": {},
   "source": [
    "Retailer Headquarters"
   ]
  },
  {
   "cell_type": "code",
   "execution_count": null,
   "metadata": {},
   "outputs": [],
   "source": [
    "#wat doen we hiermee?\n",
    "\"\"\"\n",
    "retailer_headquarters = pd.merge(\n",
    "    retailer_headquarters[['RETAILER_CODEMR', 'RETAILER_NAME', 'ADDRESS1', 'ADDRESS2', 'POSTAL_ZONE', 'CITY', 'COUNTRY_CODE', 'REGION', 'PHONE', 'FAX', 'SEGMENT_CODE']], \n",
    "    country[['COUNTRY_CODE', 'COUNTRY_EN', 'FLAG_IMAGE', 'SALES_TERRITORY_CODE']], left_on='COUNTRY_CODE', right_on='COUNTRY_CODE', \n",
    "    how='inner'\n",
    "    ).merge(sales_territory[['SALES_TERRITORY_CODE', 'TERRITORY_NAME_EN']], left_on='SALES_TERRITORY_CODE', right_on='SALES_TERRITORY_CODE', how='inner'\n",
    "            ).merge(retailer_segment[['SEGMENT_CODE', 'LANGUAGE', 'SEGMENT_NAME', 'SEGMENT_DESCRIPTION']], left_on='SEGMENT_CODE', right_on='SEGMENT_CODE', how='inner')\n",
    "retailer_headquarters\n",
    "\"\"\""
   ]
  },
  {
   "cell_type": "markdown",
   "metadata": {},
   "source": [
    "Product"
   ]
  },
  {
   "cell_type": "code",
   "execution_count": null,
   "metadata": {},
   "outputs": [],
   "source": [
    "#zijn de koloomen nodig?\n",
    "#prefixes toevoegen\n",
    "product_dw = pd.merge(\n",
    "    product[['PRODUCT_NUMBER', 'PRODUCT_NAME', 'PRODUCT_IMAGE', 'DESCRIPTION', 'INTRODUCTION_DATE', 'PRODUCTION_COST', 'MARGIN', 'LANGUAGE', 'PRODUCT_TYPE_CODE']], \n",
    "    product_type[['PRODUCT_TYPE_CODE', 'PRODUCT_TYPE_EN', 'PRODUCT_LINE_CODE']], \n",
    "    left_on='PRODUCT_TYPE_CODE', right_on='PRODUCT_TYPE_CODE', how='inner'\n",
    "    ).merge( \n",
    "        product_line[['PRODUCT_LINE_CODE', 'PRODUCT_LINE_EN']], \n",
    "        left_on='PRODUCT_LINE_CODE', right_on='PRODUCT_LINE_CODE', how='inner')\n",
    "product_dw"
   ]
  },
  {
   "cell_type": "markdown",
   "metadata": {},
   "source": [
    "Sales Demographic"
   ]
  },
  {
   "cell_type": "code",
   "execution_count": null,
   "metadata": {},
   "outputs": [],
   "source": [
    "#prefixes\n",
    "sales_demographic = pd.merge(\n",
    "    sales_demographic[['DEMOGRAPHIC_CODE', 'SALES_PERCENT', 'RETAILER_CODEMR', 'AGE_GROUP_CODE']]\n",
    "    , age_group[['AGE_GROUP_CODE', 'UPPER_AGE', 'LOWER_AGE']], left_on='AGE_GROUP_CODE', right_on='AGE_GROUP_CODE', how='inner')\n",
    "sales_demographic"
   ]
  },
  {
   "cell_type": "markdown",
   "metadata": {},
   "source": [
    "# Merges (feiten)"
   ]
  },
  {
   "cell_type": "markdown",
   "metadata": {},
   "source": [
    "Sales Target"
   ]
  },
  {
   "cell_type": "code",
   "execution_count": null,
   "metadata": {},
   "outputs": [],
   "source": [
    "sales_targetdata_dw = pd.DataFrame()\n",
    "\n",
    "sales_targetdata_dw['SALES_TARGETDATA_CODE'] = sales_targetdata['Id']\n",
    "sales_targetdata_dw['SALES_TARGETDATA_SALES_TARGET'] = sales_targetdata['SALES_TARGET']\n",
    "sales_targetdata_dw['MONTH_YEAR'] = sales_targetdata['SALES_PERIOD']\n",
    "sales_targetdata_dw['MONTH_MONTH'] = sales_targetdata['SALES_YEAR']\n",
    "sales_targetdata_dw['PRODUCT_PRODUCT_NUMBER'] = sales_targetdata['PRODUCT_NUMBER']\n",
    "sales_targetdata_dw['SALES_STAFF_SALES_STAFF_CODE'] = sales_targetdata['SALES_STAFF_CODE']\n",
    "sales_targetdata_dw['RETAILER_RETAILER_CODE'] = sales_targetdata['RETAILER_CODE']\n",
    "\n",
    "sales_targetdata_dw\n",
    "#take month from MONTH\n",
    "#ETL klopt niet - sales branch en order method verbinden niet"
   ]
  },
  {
   "cell_type": "markdown",
   "metadata": {},
   "source": [
    "Inventory Levels"
   ]
  },
  {
   "cell_type": "code",
   "execution_count": null,
   "metadata": {},
   "outputs": [],
   "source": [
    "inventory_levels_dw = pd.DataFrame()\n",
    "\n"
   ]
  },
  {
   "cell_type": "markdown",
   "metadata": {},
   "source": [
    "Training"
   ]
  },
  {
   "cell_type": "code",
   "execution_count": null,
   "metadata": {},
   "outputs": [],
   "source": [
    "#prefixes\n",
    "training = pd.merge(\n",
    "    course[['COURSE_CODE', 'COURSE_DESCRIPTION']],\n",
    "    training[['COURSE_CODE', 'SALES_STAFF_CODE', 'YEAR']], left_on='COURSE_CODE', right_on='COURSE_CODE', how='inner')\n",
    "training"
   ]
  },
  {
   "cell_type": "markdown",
   "metadata": {},
   "source": [
    "Satisfaction"
   ]
  },
  {
   "cell_type": "code",
   "execution_count": null,
   "metadata": {},
   "outputs": [],
   "source": [
    "#prefixes\n",
    "satisfaction = pd.merge(\n",
    "    satisfaction[['YEAR', 'SALES_STAFF_CODE', 'SATISFACTION_TYPE_CODE']],\n",
    "    satisfaction_type[['SATISFACTION_TYPE_CODE', 'SATISFACTION_TYPE_DESCRIPTION']], left_on='SATISFACTION_TYPE_CODE', right_on='SATISFACTION_TYPE_CODE', how='inner')\n",
    "satisfaction"
   ]
  },
  {
   "cell_type": "markdown",
   "metadata": {},
   "source": [
    "Order"
   ]
  },
  {
   "cell_type": "code",
   "execution_count": null,
   "metadata": {},
   "outputs": [],
   "source": [
    "#->>"
   ]
  },
  {
   "cell_type": "markdown",
   "metadata": {},
   "source": [
    "Returned Item"
   ]
  },
  {
   "cell_type": "code",
   "execution_count": null,
   "metadata": {},
   "outputs": [],
   "source": [
    "#->>"
   ]
  },
  {
   "cell_type": "markdown",
   "metadata": {},
   "source": [
    "Product Forecast"
   ]
  },
  {
   "cell_type": "code",
   "execution_count": null,
   "metadata": {},
   "outputs": [],
   "source": [
    "#->>"
   ]
  }
 ],
 "metadata": {
  "kernelspec": {
   "display_name": "Data Warehouse",
   "language": "python",
   "name": "python3"
  },
  "language_info": {
   "codemirror_mode": {
    "name": "ipython",
    "version": 3
   },
   "file_extension": ".py",
   "mimetype": "text/x-python",
   "name": "python",
   "nbconvert_exporter": "python",
   "pygments_lexer": "ipython3",
   "version": "3.12.2"
  }
 },
 "nbformat": 4,
 "nbformat_minor": 2
}
