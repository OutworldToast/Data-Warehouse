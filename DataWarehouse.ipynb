{
 "cells": [
  {
   "cell_type": "markdown",
   "metadata": {},
   "source": [
    "Packages importeren"
   ]
  },
  {
   "cell_type": "code",
   "execution_count": null,
   "metadata": {},
   "outputs": [],
   "source": [
    "import pandas as pd\n",
    "import numpy as np\n",
    "from datetime import datetime\n",
    "import pyodbc\n",
    "import sqlite3\n",
    "import sqlalchemy\n",
    "import matplotlib.pyplot as plt"
   ]
  },
  {
   "cell_type": "markdown",
   "metadata": {},
   "source": [
    "Connectie maken met Data Warehouse"
   ]
  },
  {
   "cell_type": "code",
   "execution_count": null,
   "metadata": {},
   "outputs": [],
   "source": [
    "DB = {'servername': 'ENVY-AKRAM\\\\SQLEXPRESS','database': 'Great Outdoors - Akram en Sylvan'}\n",
    "conn_str = ('DRIVER={ODBC Driver 17 for SQL Server};SERVER=' + DB['servername'] + ';DATABASE=' + DB['database'] + ';Trusted_Connection=yes')\n",
    "export_conn = pyodbc.connect(conn_str, timeout=120)\n",
    "export_cursor = export_conn.cursor()\n",
    "\n",
    "engine = sqlalchemy.create_engine(f\"mssql+pyodbc:///?odbc_connect={conn_str}\")\n",
    "\n",
    "# Hoe checken we of de connectie werkt?\n",
    "print(export_cursor.execute(\"SELECT @@version;\"))\n",
    "'''\n",
    "DB = {'servername': os.getenv('NAME'),\n",
    "      'database': os.getenv('DATABASE'),\n",
    "      'username': os.getenv('USER'),\n",
    "      'password': os.getenv('PASSWORD')}\n",
    "\n",
    "# Increase the connection timeout value to 30 seconds\n",
    "conn_str = f\"DRIVER=SQL Server;SERVER={DB['servername']};DATABASE={DB['database']};UID={DB['username']};PWD={DB['password']};Trusted_Connection=yes;Connection\"\n",
    "\n",
    "conn = pyodbc.connect(conn_str, timeout=120)\n",
    "cursor = conn.cursor()\n",
    "'''\n",
    "export_cursor"
   ]
  },
  {
   "cell_type": "markdown",
   "metadata": {},
   "source": [
    "Connectie maken met brongegevens"
   ]
  },
  {
   "cell_type": "code",
   "execution_count": null,
   "metadata": {},
   "outputs": [],
   "source": [
    "go_sales_connection = sqlite3.connect('Data\\\\Brongegevens\\\\go_sales.sqlite')\n",
    "go_crm_connection = sqlite3.connect('Data\\\\Brongegevens\\\\go_crm.sqlite')\n",
    "go_staff_connection = sqlite3.connect('Data\\\\Brongegevens\\\\go_staff.sqlite')\n",
    "df_inventory = pd.read_csv('Data\\\\Brongegevens\\\\GO_SALES_INVENTORY_LEVELSData.csv')\n",
    "df_product = pd.read_csv('Data\\\\Brongegevens\\\\GO_SALES_PRODUCT_FORECASTData.csv')"
   ]
  },
  {
   "cell_type": "markdown",
   "metadata": {},
   "source": [
    "Helper functie tables inlezen"
   ]
  },
  {
   "cell_type": "code",
   "execution_count": null,
   "metadata": {},
   "outputs": [],
   "source": [
    "def readTable(connection, table):\n",
    "    query = 'SELECT * FROM ' + table\n",
    "    result = pd.read_sql_query(query, connection)\n",
    "    result = result.loc[:, ~result.columns.str.contains('trial', case=False)]\n",
    "    #verwijder trials\n",
    "    return result"
   ]
  },
  {
   "cell_type": "markdown",
   "metadata": {},
   "source": [
    "Database Go Sales"
   ]
  },
  {
   "cell_type": "code",
   "execution_count": null,
   "metadata": {},
   "outputs": [],
   "source": [
    "tables = pd.read_sql('SELECT name FROM sqlite_master WHERE type=\"table\"', go_sales_connection)\n",
    "country_go_sales = readTable(go_sales_connection, 'country')\n",
    "order_details = readTable(go_sales_connection, 'order_details')\n",
    "order_header = readTable(go_sales_connection, 'order_header')\n",
    "order_method = readTable(go_sales_connection, 'order_method')\n",
    "product = readTable(go_sales_connection, 'product')\n",
    "product_line = readTable(go_sales_connection, 'product_line')\n",
    "product_type = readTable(go_sales_connection, 'product_type')\n",
    "retailer_site_go_sales = readTable(go_sales_connection, 'retailer_site')\n",
    "return_reason = readTable(go_sales_connection, 'return_reason')\n",
    "returned_item = readTable(go_sales_connection, 'returned_item')\n",
    "sales_branch_go_sales = readTable(go_sales_connection, 'sales_branch')\n",
    "sales_staff_go_sales = readTable(go_sales_connection, 'sales_staff')\n",
    "sales_targetdata = readTable(go_sales_connection, 'SALES_TARGETData')\n",
    "tables  \n"
   ]
  },
  {
   "cell_type": "markdown",
   "metadata": {},
   "source": [
    "Database Go Staff"
   ]
  },
  {
   "cell_type": "code",
   "execution_count": null,
   "metadata": {},
   "outputs": [],
   "source": [
    "tables = pd.read_sql('SELECT name FROM sqlite_master WHERE type=\"table\"', go_staff_connection)\n",
    "course = readTable(go_staff_connection, 'course')\n",
    "sales_branch_go_staff = readTable(go_staff_connection, 'sales_branch')\n",
    "sales_staff_go_staff = readTable(go_staff_connection, 'sales_staff')\n",
    "satisfaction = readTable(go_staff_connection, 'satisfaction')\n",
    "satisfaction_type = readTable(go_staff_connection, 'satisfaction_type')\n",
    "training = readTable(go_staff_connection, 'training')\n",
    "tables\n"
   ]
  },
  {
   "cell_type": "markdown",
   "metadata": {},
   "source": [
    "Database Go Crm"
   ]
  },
  {
   "cell_type": "code",
   "execution_count": null,
   "metadata": {},
   "outputs": [],
   "source": [
    "tables = pd.read_sql('SELECT name FROM sqlite_master WHERE type=\"table\"', go_crm_connection)\n",
    "age_group = readTable(go_crm_connection, 'age_group')\n",
    "country_go_crm = readTable(go_crm_connection, 'country')\n",
    "retailer = readTable(go_crm_connection, 'retailer')\n",
    "retailer_contact = readTable(go_crm_connection, 'retailer_contact')\n",
    "retailer_headquarters = readTable(go_crm_connection, 'retailer_headquarters')\n",
    "retailer_segment = readTable(go_crm_connection, 'retailer_segment')\n",
    "retailer_site_go_crm = readTable(go_crm_connection, 'retailer_site')\n",
    "retailer_type = readTable(go_crm_connection, 'retailer_type')\n",
    "sales_demographic = readTable(go_crm_connection, 'sales_demographic')\n",
    "sales_territory = readTable(go_crm_connection, 'sales_territory')\n",
    "tables\n",
    "\n",
    "retailer_headquarters\n"
   ]
  },
  {
   "cell_type": "markdown",
   "metadata": {},
   "source": [
    "# Unions"
   ]
  },
  {
   "cell_type": "code",
   "execution_count": null,
   "metadata": {},
   "outputs": [],
   "source": [
    "sales_staff_union = pd.concat([sales_staff_go_staff, sales_staff_go_sales])\n",
    "sales_staff_union.drop_duplicates(subset='SALES_STAFF_CODE', ignore_index=True, inplace=True)\n",
    "sales_staff_union\n",
    "#heeft overwegingen nodig op: \n",
    "#manager_code\n"
   ]
  },
  {
   "cell_type": "code",
   "execution_count": null,
   "metadata": {},
   "outputs": [],
   "source": [
    "sales_branch_union = pd.concat([sales_branch_go_staff, sales_branch_go_sales])\n",
    "sales_branch_union.drop_duplicates(subset='SALES_BRANCH_CODE', ignore_index=True, inplace=True)\n",
    "sales_branch_union"
   ]
  },
  {
   "cell_type": "code",
   "execution_count": null,
   "metadata": {},
   "outputs": [],
   "source": [
    "retailer_site_union = pd.concat([retailer_site_go_crm, retailer_site_go_sales])\n",
    "retailer_site_union.drop_duplicates(subset='RETAILER_SITE_CODE', ignore_index=True, inplace=True)\n",
    "retailer_site_union"
   ]
  },
  {
   "cell_type": "code",
   "execution_count": null,
   "metadata": {},
   "outputs": [],
   "source": [
    "country_go_crm_union = pd.merge(country_go_crm, sales_territory, on='SALES_TERRITORY_CODE', how='outer')\n",
    "country_union = pd.merge(country_go_sales, country_go_crm_union, on='COUNTRY_CODE', how='outer')\n",
    "country_union.drop_duplicates(subset='COUNTRY_CODE', ignore_index=True, inplace=True)\n",
    "country_union\n",
    "#not actually a union"
   ]
  },
  {
   "cell_type": "markdown",
   "metadata": {},
   "source": [
    "# Verborgen Dimensies"
   ]
  },
  {
   "cell_type": "markdown",
   "metadata": {},
   "source": [
    "Date"
   ]
  },
  {
   "cell_type": "code",
   "execution_count": null,
   "metadata": {},
   "outputs": [],
   "source": [
    "date_dict = {'DATE_DATE':[], 'DATE_YEAR':[], 'DATE_QUARTER':[], 'DATE_MONTH':[], 'DATE_DAY':[]}\n",
    "\n",
    "date_dw = pd.DataFrame(date_dict)\n",
    "date_dw"
   ]
  },
  {
   "cell_type": "markdown",
   "metadata": {},
   "source": [
    "ToDate() Functions"
   ]
  },
  {
   "cell_type": "code",
   "execution_count": null,
   "metadata": {},
   "outputs": [],
   "source": [
    "#??"
   ]
  },
  {
   "cell_type": "markdown",
   "metadata": {},
   "source": [
    "Month"
   ]
  },
  {
   "cell_type": "code",
   "execution_count": null,
   "metadata": {},
   "outputs": [],
   "source": [
    "#iets"
   ]
  },
  {
   "cell_type": "markdown",
   "metadata": {},
   "source": [
    "# Simpele Dimensies"
   ]
  },
  {
   "cell_type": "markdown",
   "metadata": {},
   "source": [
    "Return Reason"
   ]
  },
  {
   "cell_type": "code",
   "execution_count": null,
   "metadata": {},
   "outputs": [],
   "source": [
    "def ToReasonCategory(str):\n",
    "\n",
    "    if 'wrong' in str.lower():\n",
    "        return 'Wrong Product'\n",
    "    elif 'unsatisfactory' in str.lower():\n",
    "        return 'Unsatisfactory'\n",
    "    else:\n",
    "        return 'Faulty'\n",
    "\n",
    "return_reason_dw = return_reason.copy()\n",
    "return_reason_dw['RETURN_CATEGORY'] = return_reason_dw['RETURN_DESCRIPTION_EN'].apply(ToReasonCategory)\n",
    "return_reason_dw\n",
    "\n",
    "#trial888"
   ]
  },
  {
   "cell_type": "markdown",
   "metadata": {},
   "source": [
    "Course"
   ]
  },
  {
   "cell_type": "code",
   "execution_count": null,
   "metadata": {},
   "outputs": [],
   "source": [
    "def ToCourseCategory(str):\n",
    "\n",
    "    if 'marketing' in str.lower():\n",
    "        return 'Marketing'\n",
    "    elif 'sales' in str.lower():\n",
    "        return 'Sales'\n",
    "    elif 'management' in str.lower():\n",
    "        return 'Management'\n",
    "    elif 'communication' in str.lower():\n",
    "        return 'Communication'\n",
    "    elif 'orientation' in str.lower():\n",
    "        return 'Orientation'\n",
    "    else: \n",
    "        return 'Other'\n",
    "\n",
    "course_dw = course.copy()\n",
    "course_dw['COURSE_CATEGORY'] = course_dw['COURSE_DESCRIPTION'].apply(ToCourseCategory)\n",
    "course_dw\n",
    "\n",
    "#trial633"
   ]
  },
  {
   "cell_type": "markdown",
   "metadata": {},
   "source": [
    "Order Method"
   ]
  },
  {
   "cell_type": "code",
   "execution_count": null,
   "metadata": {},
   "outputs": [],
   "source": [
    "order_method_dw = order_method.copy()\n",
    "#fuck de categorie"
   ]
  },
  {
   "cell_type": "markdown",
   "metadata": {},
   "source": [
    "Satisfaction Type"
   ]
  },
  {
   "cell_type": "code",
   "execution_count": null,
   "metadata": {},
   "outputs": [],
   "source": [
    "def ToSatisfied(nr):\n",
    "    try:\n",
    "        return int(nr) >= 3\n",
    "    except ValueError:\n",
    "        return False\n",
    "\n",
    "satisfaction_type_dw = satisfaction_type.copy()\n",
    "satisfaction_type_dw['SATISFIED_BOOLEAN'] = satisfaction_type['SATISFACTION_TYPE_CODE'].apply(ToSatisfied)\n",
    "satisfaction_type_dw"
   ]
  },
  {
   "cell_type": "markdown",
   "metadata": {},
   "source": [
    "# Merges (dimensies)"
   ]
  },
  {
   "cell_type": "markdown",
   "metadata": {},
   "source": [
    "Retailer Headquarters"
   ]
  },
  {
   "cell_type": "code",
   "execution_count": null,
   "metadata": {},
   "outputs": [],
   "source": [
    "retailer_headquarters_dw = pd.merge(\n",
    "    retailer_headquarters.add_prefix('RT_HEADQUARTERS_'), country_union.add_prefix('COUNTRY_'), \n",
    "    left_on = 'RT_HEADQUARTERS_COUNTRY_CODE', right_on='COUNTRY_COUNTRY_CODE', how='outer')\n",
    "retailer_headquarters_dw = pd.merge(\n",
    "    retailer_headquarters_dw, retailer_segment.add_prefix('RT_SEGMENT_'), \n",
    "    left_on = 'RT_HEADQUARTERS_SEGMENT_CODE', right_on='RT_SEGMENT_SEGMENT_CODE', how='outer')\n",
    "#segment category\n",
    "retailer_headquarters_dw"
   ]
  },
  {
   "cell_type": "markdown",
   "metadata": {},
   "source": [
    "Retailer Contact"
   ]
  },
  {
   "cell_type": "code",
   "execution_count": null,
   "metadata": {},
   "outputs": [],
   "source": [
    "retailer_contact_dw = pd.merge(\n",
    "    retailer_contact.add_prefix('RT_CONTACT_'), retailer_site_union.add_prefix('RT_SITE_'), \n",
    "    left_on='RT_CONTACT_RETAILER_SITE_CODE', right_on='RT_SITE_RETAILER_SITE_CODE', how='inner')\n",
    "#position category\n",
    "retailer_contact_dw = pd.merge(\n",
    "    retailer_contact_dw, retailer.add_prefix('RT_'), \n",
    "    left_on='RT_SITE_RETAILER_CODE', right_on='RT_RETAILER_CODE', how='inner')\n",
    "retailer_contact_dw = pd.merge(\n",
    "    retailer_contact_dw, retailer_type.add_prefix('RT_TYPE_'), \n",
    "    left_on='RT_RETAILER_TYPE_CODE', right_on='RT_TYPE_RETAILER_TYPE_CODE', how='inner')\n",
    "retailer_contact_dw = pd.merge(\n",
    "    retailer_contact_dw, retailer_headquarters_dw, \n",
    "    left_on='RT_RETAILER_CODEMR', right_on='RT_HEADQUARTERS_RETAILER_CODEMR', how='inner')\n",
    "retailer_contact_dw\n",
    "#trial222/888\n",
    "#loc: any non americas?"
   ]
  },
  {
   "cell_type": "markdown",
   "metadata": {},
   "source": [
    "Sales Staff"
   ]
  },
  {
   "cell_type": "code",
   "execution_count": null,
   "metadata": {},
   "outputs": [],
   "source": [
    "sales_staff_dw = pd.merge(\n",
    "    sales_staff_union.add_prefix('SALES_STAFF_'), sales_branch_union.add_prefix('SALES_BRANCH_'), \n",
    "    left_on='SALES_STAFF_SALES_BRANCH_CODE', right_on='SALES_BRANCH_SALES_BRANCH_CODE', how='inner')\n",
    "sales_staff_dw = pd.merge(\n",
    "    sales_staff_dw, country_go_sales.add_prefix('COUNTRY_'),\n",
    "    left_on='SALES_BRANCH_COUNTRY_CODE', right_on='COUNTRY_COUNTRY_CODE', how='inner')\n",
    "sales_staff_dw\n",
    "#trial633/888"
   ]
  },
  {
   "cell_type": "markdown",
   "metadata": {},
   "source": [
    "Retailer Headquarters"
   ]
  },
  {
   "cell_type": "code",
   "execution_count": null,
   "metadata": {},
   "outputs": [],
   "source": [
    "#wat doen we hiermee?\n",
    "\"\"\"\n",
    "retailer_headquarters = pd.merge(\n",
    "    retailer_headquarters[['RETAILER_CODEMR', 'RETAILER_NAME', 'ADDRESS1', 'ADDRESS2', 'POSTAL_ZONE', 'CITY', 'COUNTRY_CODE', 'REGION', 'PHONE', 'FAX', 'SEGMENT_CODE']], \n",
    "    country[['COUNTRY_CODE', 'COUNTRY_EN', 'FLAG_IMAGE', 'SALES_TERRITORY_CODE']], left_on='COUNTRY_CODE', right_on='COUNTRY_CODE', \n",
    "    how='inner'\n",
    "    ).merge(sales_territory[['SALES_TERRITORY_CODE', 'TERRITORY_NAME_EN']], left_on='SALES_TERRITORY_CODE', right_on='SALES_TERRITORY_CODE', how='inner'\n",
    "            ).merge(retailer_segment[['SEGMENT_CODE', 'LANGUAGE', 'SEGMENT_NAME', 'SEGMENT_DESCRIPTION']], left_on='SEGMENT_CODE', right_on='SEGMENT_CODE', how='inner')\n",
    "retailer_headquarters\n",
    "\"\"\""
   ]
  },
  {
   "cell_type": "markdown",
   "metadata": {},
   "source": [
    "Product"
   ]
  },
  {
   "cell_type": "code",
   "execution_count": null,
   "metadata": {},
   "outputs": [],
   "source": [
    "#zijn de koloomen nodig?\n",
    "#prefixes toevoegen\n",
    "product_dw = pd.merge(\n",
    "    product[['PRODUCT_NUMBER', 'PRODUCT_NAME', 'PRODUCT_IMAGE', 'DESCRIPTION', 'INTRODUCTION_DATE', 'PRODUCTION_COST', 'MARGIN', 'LANGUAGE', 'PRODUCT_TYPE_CODE']], \n",
    "    product_type[['PRODUCT_TYPE_CODE', 'PRODUCT_TYPE_EN', 'PRODUCT_LINE_CODE']], \n",
    "    left_on='PRODUCT_TYPE_CODE', right_on='PRODUCT_TYPE_CODE', how='inner'\n",
    "    ).merge( \n",
    "        product_line[['PRODUCT_LINE_CODE', 'PRODUCT_LINE_EN']], \n",
    "        left_on='PRODUCT_LINE_CODE', right_on='PRODUCT_LINE_CODE', how='inner')\n",
    "product_dw"
   ]
  },
  {
   "cell_type": "markdown",
   "metadata": {},
   "source": [
    "Sales Demographic"
   ]
  },
  {
   "cell_type": "code",
   "execution_count": null,
   "metadata": {},
   "outputs": [],
   "source": [
    "#prefixes\n",
    "sales_demographic = pd.merge(\n",
    "    sales_demographic[['DEMOGRAPHIC_CODE', 'SALES_PERCENT', 'RETAILER_CODEMR', 'AGE_GROUP_CODE']]\n",
    "    , age_group[['AGE_GROUP_CODE', 'UPPER_AGE', 'LOWER_AGE']], left_on='AGE_GROUP_CODE', right_on='AGE_GROUP_CODE', how='inner')\n",
    "sales_demographic"
   ]
  },
  {
   "cell_type": "markdown",
   "metadata": {},
   "source": [
    "# Merges (feiten)"
   ]
  },
  {
   "cell_type": "markdown",
   "metadata": {},
   "source": [
    "Sales Target"
   ]
  },
  {
   "cell_type": "code",
   "execution_count": null,
   "metadata": {},
   "outputs": [],
   "source": [
    "sales_targetdata_dw = pd.DataFrame()\n",
    "\n",
    "sales_targetdata_dw['SALES_TARGETDATA_CODE'] = sales_targetdata['Id']\n",
    "sales_targetdata_dw['SALES_TARGETDATA_SALES_TARGET'] = sales_targetdata['SALES_TARGET']\n",
    "sales_targetdata_dw['MONTH_YEAR'] = sales_targetdata['SALES_PERIOD']\n",
    "sales_targetdata_dw['MONTH_MONTH'] = sales_targetdata['SALES_YEAR']\n",
    "sales_targetdata_dw['PRODUCT_PRODUCT_NUMBER'] = sales_targetdata['PRODUCT_NUMBER']\n",
    "sales_targetdata_dw['SALES_STAFF_SALES_STAFF_CODE'] = sales_targetdata['SALES_STAFF_CODE']\n",
    "sales_targetdata_dw['RETAILER_RETAILER_CODE'] = sales_targetdata['RETAILER_CODE']\n",
    "\n",
    "sales_targetdata_dw\n",
    "#take month from MONTH\n",
    "#ETL klopt niet - sales branch en order method verbinden niet\n",
    "\n",
    "#trial879"
   ]
  },
  {
   "cell_type": "markdown",
   "metadata": {},
   "source": [
    "Inventory Levels"
   ]
  },
  {
   "cell_type": "code",
   "execution_count": null,
   "metadata": {},
   "outputs": [],
   "source": [
    "inventory_levels_dw = pd.DataFrame()\n",
    "\n",
    "#inventory_count is leeg?\n",
    "inventory_levels_dw['PRODUCT_NUMBER'] = df_inventory['PRODUCT_NUMBER']\n",
    "inventory_levels_dw['INVENTORY_YEAR'] = df_inventory['INVENTORY_YEAR']\n",
    "inventory_levels_dw['INVENTORY_MONTH'] = df_inventory['INVENTORY_MONTH']\n",
    "inventory_levels_dw['INVENTORY_COUNT'] = df_inventory['INVENTORY_COUNT']\n",
    "\n",
    "inventory_levels_dw"
   ]
  },
  {
   "cell_type": "markdown",
   "metadata": {},
   "source": [
    "Training"
   ]
  },
  {
   "cell_type": "code",
   "execution_count": null,
   "metadata": {},
   "outputs": [],
   "source": [
    "#prefixes\n",
    "training = pd.merge(\n",
    "    course[['COURSE_CODE', 'COURSE_DESCRIPTION']],\n",
    "    training[['COURSE_CODE', 'SALES_STAFF_CODE', 'YEAR']], left_on='COURSE_CODE', right_on='COURSE_CODE', how='inner')\n",
    "training"
   ]
  },
  {
   "cell_type": "markdown",
   "metadata": {},
   "source": [
    "Satisfaction"
   ]
  },
  {
   "cell_type": "code",
   "execution_count": null,
   "metadata": {},
   "outputs": [],
   "source": [
    "#prefixes\n",
    "satisfaction = pd.merge(\n",
    "    satisfaction[['YEAR', 'SALES_STAFF_CODE', 'SATISFACTION_TYPE_CODE']],\n",
    "    satisfaction_type[['SATISFACTION_TYPE_CODE', 'SATISFACTION_TYPE_DESCRIPTION']], left_on='SATISFACTION_TYPE_CODE', right_on='SATISFACTION_TYPE_CODE', how='inner')\n",
    "satisfaction"
   ]
  },
  {
   "cell_type": "markdown",
   "metadata": {},
   "source": [
    "Order"
   ]
  },
  {
   "cell_type": "code",
   "execution_count": null,
   "metadata": {},
   "outputs": [],
   "source": [
    "def ToOrderTurnover(quantity, sale_price):\n",
    "    return float(quantity) * float(sale_price)\n",
    "\n",
    "def ToOrderProfit(quantity, sale_price, unit_cost):\n",
    "    return float(quantity) * (float(sale_price) - float(unit_cost))"
   ]
  },
  {
   "cell_type": "code",
   "execution_count": null,
   "metadata": {},
   "outputs": [],
   "source": [
    "order_dw = pd.merge(\n",
    "    order_header,\n",
    "    order_details,\n",
    "    on='ORDER_NUMBER', how='inner'\n",
    ")\n",
    "order_dw = order_dw.drop('RETAILER_NAME', axis=1)\n",
    "\n",
    "order_dw['ORDER_TURNOVER'] = order_dw.apply(lambda x: ToOrderTurnover(x['QUANTITY'], x['UNIT_SALE_PRICE']), axis = 1)\n",
    "order_dw['ORDER_PROFIT'] = order_dw.apply(lambda x: ToOrderProfit(x['QUANTITY'], x['UNIT_SALE_PRICE'], x['UNIT_COST']), axis = 1)\n",
    "\n",
    "order_dw"
   ]
  },
  {
   "cell_type": "markdown",
   "metadata": {},
   "source": [
    "Returned Item"
   ]
  },
  {
   "cell_type": "code",
   "execution_count": null,
   "metadata": {},
   "outputs": [],
   "source": [
    "def ToTurnunder (quantity, sale_price):\n",
    "    return float(quantity) * float(sale_price)\n",
    "\n",
    "def ToReturnPercentage(quantity, return_quantity):\n",
    "    return 100 * (float(return_quantity) / float(quantity))"
   ]
  },
  {
   "cell_type": "code",
   "execution_count": null,
   "metadata": {},
   "outputs": [],
   "source": [
    "returned_item_dw = pd.merge(\n",
    "    order_details[['ORDER_DETAIL_CODE', 'QUANTITY', 'UNIT_SALE_PRICE']],\n",
    "    returned_item,\n",
    "    on='ORDER_DETAIL_CODE', how='inner'\n",
    ")\n",
    "\n",
    "returned_item_dw['TURNUNDER'] = returned_item_dw.apply(\n",
    "    lambda x: ToTurnunder(x['RETURN_QUANTITY'], x['UNIT_SALE_PRICE']), \n",
    "    axis = 1)\n",
    "returned_item_dw['RETURN_PERCENTAGE'] = returned_item_dw.apply(\n",
    "    lambda x: ToReturnPercentage(x['QUANTITY'], x['RETURN_QUANTITY']),\n",
    "    axis = 1)\n",
    "\n",
    "returned_item_dw"
   ]
  },
  {
   "cell_type": "markdown",
   "metadata": {},
   "source": [
    "Product Forecast"
   ]
  },
  {
   "cell_type": "code",
   "execution_count": null,
   "metadata": {},
   "outputs": [],
   "source": [
    "def ForecastCost(quantity, unit_cost):\n",
    "    return float(quantity) * float(unit_cost)\n",
    "\n",
    "\n",
    "df_product_dw = pd.merge(\n",
    "    df_product,\n",
    "    product[['PRODUCT_NUMBER', 'PRODUCTION_COST']],\n",
    "    left_on=df_product['PRODUCT_NUMBER'].astype(str),\n",
    "    right_on='PRODUCT_NUMBER', \n",
    "    how='inner'\n",
    ")\n",
    "\n",
    "#onelegant - zou anders moeten kunnen\n",
    "df_product_dw = df_product_dw.drop('PRODUCT_NUMBER_x', axis=1)\n",
    "df_product_dw = df_product_dw.drop('PRODUCT_NUMBER_y', axis=1)\n",
    "\n",
    "df_product_dw['FORECAST_COST'] = df_product_dw.apply(\n",
    "    lambda x: ForecastCost(x['EXPECTED_VOLUME'], x['PRODUCTION_COST']), \n",
    "    axis = 1)\n",
    "\n",
    "df_product_dw"
   ]
  },
  {
   "cell_type": "markdown",
   "metadata": {},
   "source": [
    "# Naar Database pushen"
   ]
  },
  {
   "cell_type": "markdown",
   "metadata": {},
   "source": [
    "To SQL"
   ]
  },
  {
   "cell_type": "code",
   "execution_count": null,
   "metadata": {},
   "outputs": [],
   "source": [
    "return_reason_dw = return_reason_dw.astype(dict)\n",
    "return_reason_dw.dtypes\n",
    "return_reason_dw"
   ]
  },
  {
   "cell_type": "code",
   "execution_count": null,
   "metadata": {},
   "outputs": [],
   "source": [
    "return_reason_dw.to_sql('RETURN_REASON', engine, if_exists='replace', index=False)\n",
    "course_dw.to_sql('COURSE', engine, if_exists='replace', index=False)\n",
    "order_method_dw.to_sql('ORDER_METHOD', engine, if_exists='replace', index=False)\n",
    "retailer_contact_dw.to_sql('RETAILER_CONTACT', engine, if_exists='replace', index=False)\n",
    "retailer_headquarters_dw.to_sql('RETAILER_HEADQUARTERS', engine, if_exists='replace', index=False)\n",
    "sales_staff_dw.to_sql('SALES_STAFF', engine, if_exists='replace', index=False)\n",
    "sales_targetdata_dw.to_sql('SALES_TARGETDATA', engine, if_exists='replace', index=False)\n",
    "satisfaction_dw.to_sql('SATISFACTION', engine, if_exists='replace', index=False)\n",
    "satisfaction_type_dw.to_sql('SATISFACTION_TYPE', engine, if_exists='replace', index=False)\n",
    "training_dw.to_sql('TRAINING', engine, if_exists='replace', index=False)\n",
    "sales_demographic_dw.to_sql('SALES_DEMOGRAPHIC', engine, if_exists='replace', index=False)\n",
    "product_dw.to_sql('PRODUCT', engine, if_exists='replace', index=False)"
   ]
  },
  {
   "cell_type": "markdown",
   "metadata": {},
   "source": [
    "# Regressiemodel"
   ]
  },
  {
   "cell_type": "code",
   "execution_count": null,
   "metadata": {},
   "outputs": [],
   "source": [
    "from datetime import datetime\n",
    "#from sklearn.model_selection import train_test_split\n",
    "#from sklearn import linear_model\n",
    "#from sklearn.linear_model import LinearRegression\n",
    "#from sklearn.metrics import mean_squared_error, mean_absolute_error\n",
    "import matplotlib.pyplot as plt"
   ]
  },
  {
   "cell_type": "markdown",
   "metadata": {},
   "source": [
    "Gegevens ophalen uit Data Warehouse"
   ]
  },
  {
   "cell_type": "code",
   "execution_count": null,
   "metadata": {},
   "outputs": [],
   "source": [
    "#->>"
   ]
  },
  {
   "cell_type": "markdown",
   "metadata": {},
   "source": [
    "Dataframe opstellen"
   ]
  },
  {
   "cell_type": "code",
   "execution_count": 78,
   "metadata": {},
   "outputs": [
    {
     "data": {
      "text/html": [
       "<div>\n",
       "<style scoped>\n",
       "    .dataframe tbody tr th:only-of-type {\n",
       "        vertical-align: middle;\n",
       "    }\n",
       "\n",
       "    .dataframe tbody tr th {\n",
       "        vertical-align: top;\n",
       "    }\n",
       "\n",
       "    .dataframe thead th {\n",
       "        text-align: right;\n",
       "    }\n",
       "</style>\n",
       "<table border=\"1\" class=\"dataframe\">\n",
       "  <thead>\n",
       "    <tr style=\"text-align: right;\">\n",
       "      <th></th>\n",
       "      <th>PRODUCT_NUMBER</th>\n",
       "      <th>QUANTITY</th>\n",
       "      <th>UNIT_COST</th>\n",
       "      <th>INTRODUCTION_DATE</th>\n",
       "      <th>PRODUCT_TYPE_CODE</th>\n",
       "      <th>PRODUCT_LINE_CODE</th>\n",
       "    </tr>\n",
       "  </thead>\n",
       "  <tbody>\n",
       "    <tr>\n",
       "      <th>0</th>\n",
       "      <td>2</td>\n",
       "      <td>100</td>\n",
       "      <td>9.64</td>\n",
       "      <td>15-2-2011</td>\n",
       "      <td>1</td>\n",
       "      <td>1</td>\n",
       "    </tr>\n",
       "    <tr>\n",
       "      <th>1</th>\n",
       "      <td>32</td>\n",
       "      <td>254</td>\n",
       "      <td>18.25</td>\n",
       "      <td>15-2-2011</td>\n",
       "      <td>5</td>\n",
       "      <td>1</td>\n",
       "    </tr>\n",
       "    <tr>\n",
       "      <th>2</th>\n",
       "      <td>35</td>\n",
       "      <td>114</td>\n",
       "      <td>19.67</td>\n",
       "      <td>26-10-2016</td>\n",
       "      <td>5</td>\n",
       "      <td>1</td>\n",
       "    </tr>\n",
       "    <tr>\n",
       "      <th>3</th>\n",
       "      <td>36</td>\n",
       "      <td>130</td>\n",
       "      <td>21.03</td>\n",
       "      <td>15-2-2011</td>\n",
       "      <td>5</td>\n",
       "      <td>1</td>\n",
       "    </tr>\n",
       "    <tr>\n",
       "      <th>4</th>\n",
       "      <td>39</td>\n",
       "      <td>74</td>\n",
       "      <td>42.33</td>\n",
       "      <td>5-3-2013</td>\n",
       "      <td>5</td>\n",
       "      <td>1</td>\n",
       "    </tr>\n",
       "    <tr>\n",
       "      <th>...</th>\n",
       "      <td>...</td>\n",
       "      <td>...</td>\n",
       "      <td>...</td>\n",
       "      <td>...</td>\n",
       "      <td>...</td>\n",
       "      <td>...</td>\n",
       "    </tr>\n",
       "    <tr>\n",
       "      <th>43058</th>\n",
       "      <td>52</td>\n",
       "      <td>64</td>\n",
       "      <td>19.00</td>\n",
       "      <td>10-1-2021</td>\n",
       "      <td>8</td>\n",
       "      <td>2</td>\n",
       "    </tr>\n",
       "    <tr>\n",
       "      <th>43059</th>\n",
       "      <td>56</td>\n",
       "      <td>24</td>\n",
       "      <td>9.00</td>\n",
       "      <td>10-1-2021</td>\n",
       "      <td>8</td>\n",
       "      <td>2</td>\n",
       "    </tr>\n",
       "    <tr>\n",
       "      <th>43060</th>\n",
       "      <td>57</td>\n",
       "      <td>40</td>\n",
       "      <td>40.00</td>\n",
       "      <td>10-1-2021</td>\n",
       "      <td>9</td>\n",
       "      <td>2</td>\n",
       "    </tr>\n",
       "    <tr>\n",
       "      <th>43061</th>\n",
       "      <td>78</td>\n",
       "      <td>32</td>\n",
       "      <td>79.19</td>\n",
       "      <td>15-2-2011</td>\n",
       "      <td>13</td>\n",
       "      <td>3</td>\n",
       "    </tr>\n",
       "    <tr>\n",
       "      <th>43062</th>\n",
       "      <td>88</td>\n",
       "      <td>144</td>\n",
       "      <td>2.00</td>\n",
       "      <td>15-2-2011</td>\n",
       "      <td>15</td>\n",
       "      <td>4</td>\n",
       "    </tr>\n",
       "  </tbody>\n",
       "</table>\n",
       "<p>43063 rows × 6 columns</p>\n",
       "</div>"
      ],
      "text/plain": [
       "      PRODUCT_NUMBER  QUANTITY  UNIT_COST INTRODUCTION_DATE PRODUCT_TYPE_CODE  \\\n",
       "0                  2       100       9.64         15-2-2011                 1   \n",
       "1                 32       254      18.25         15-2-2011                 5   \n",
       "2                 35       114      19.67        26-10-2016                 5   \n",
       "3                 36       130      21.03         15-2-2011                 5   \n",
       "4                 39        74      42.33          5-3-2013                 5   \n",
       "...              ...       ...        ...               ...               ...   \n",
       "43058             52        64      19.00         10-1-2021                 8   \n",
       "43059             56        24       9.00         10-1-2021                 8   \n",
       "43060             57        40      40.00         10-1-2021                 9   \n",
       "43061             78        32      79.19         15-2-2011                13   \n",
       "43062             88       144       2.00         15-2-2011                15   \n",
       "\n",
       "      PRODUCT_LINE_CODE  \n",
       "0                     1  \n",
       "1                     1  \n",
       "2                     1  \n",
       "3                     1  \n",
       "4                     1  \n",
       "...                 ...  \n",
       "43058                 2  \n",
       "43059                 2  \n",
       "43060                 2  \n",
       "43061                 3  \n",
       "43062                 4  \n",
       "\n",
       "[43063 rows x 6 columns]"
      ]
     },
     "execution_count": 78,
     "metadata": {},
     "output_type": "execute_result"
    }
   ],
   "source": [
    "datasetPrepProduct = pd.merge(\n",
    "    order_dw[['PRODUCT_NUMBER', 'QUANTITY', 'UNIT_COST']],\n",
    "    product_dw[['PRODUCT_NUMBER', 'INTRODUCTION_DATE', 'PRODUCT_TYPE_CODE', 'PRODUCT_LINE_CODE']],\n",
    "    on='PRODUCT_NUMBER', how='inner'\n",
    ")\n",
    "datasetPrepProduct['UNIT_COST'] = datasetPrepProduct['UNIT_COST'].astype(float)\n",
    "datasetPrepProduct"
   ]
  },
  {
   "cell_type": "code",
   "execution_count": 79,
   "metadata": {},
   "outputs": [],
   "source": [
    "#helperfunctie\n",
    "\n",
    "def ToProductAge(date_str):\n",
    "    date_obj = pd.to_datetime(date_str, dayfirst=True)\n",
    "    return (datetime.now() - date_obj).days\n"
   ]
  },
  {
   "cell_type": "code",
   "execution_count": 80,
   "metadata": {},
   "outputs": [
    {
     "data": {
      "text/html": [
       "<div>\n",
       "<style scoped>\n",
       "    .dataframe tbody tr th:only-of-type {\n",
       "        vertical-align: middle;\n",
       "    }\n",
       "\n",
       "    .dataframe tbody tr th {\n",
       "        vertical-align: top;\n",
       "    }\n",
       "\n",
       "    .dataframe thead th {\n",
       "        text-align: right;\n",
       "    }\n",
       "</style>\n",
       "<table border=\"1\" class=\"dataframe\">\n",
       "  <thead>\n",
       "    <tr style=\"text-align: right;\">\n",
       "      <th></th>\n",
       "      <th>PRODUCT_NUMBER</th>\n",
       "      <th>QUANTITY</th>\n",
       "      <th>INTRODUCTION_DATE</th>\n",
       "      <th>UNIT_COST</th>\n",
       "      <th>PRODUCT_TYPE_CODE</th>\n",
       "      <th>PRODUCT_LINE_CODE</th>\n",
       "    </tr>\n",
       "  </thead>\n",
       "  <tbody>\n",
       "    <tr>\n",
       "      <th>0</th>\n",
       "      <td>1</td>\n",
       "      <td>41770</td>\n",
       "      <td>15-2-2011</td>\n",
       "      <td>4.113607</td>\n",
       "      <td>1</td>\n",
       "      <td>1</td>\n",
       "    </tr>\n",
       "    <tr>\n",
       "      <th>1</th>\n",
       "      <td>10</td>\n",
       "      <td>15928</td>\n",
       "      <td>15-2-2011</td>\n",
       "      <td>10.429155</td>\n",
       "      <td>1</td>\n",
       "      <td>1</td>\n",
       "    </tr>\n",
       "    <tr>\n",
       "      <th>2</th>\n",
       "      <td>100</td>\n",
       "      <td>29980</td>\n",
       "      <td>15-2-2011</td>\n",
       "      <td>2.848523</td>\n",
       "      <td>17</td>\n",
       "      <td>4</td>\n",
       "    </tr>\n",
       "    <tr>\n",
       "      <th>3</th>\n",
       "      <td>101</td>\n",
       "      <td>5764</td>\n",
       "      <td>15-12-2019</td>\n",
       "      <td>316.939286</td>\n",
       "      <td>18</td>\n",
       "      <td>5</td>\n",
       "    </tr>\n",
       "    <tr>\n",
       "      <th>4</th>\n",
       "      <td>102</td>\n",
       "      <td>5014</td>\n",
       "      <td>10-12-2019</td>\n",
       "      <td>402.653541</td>\n",
       "      <td>18</td>\n",
       "      <td>5</td>\n",
       "    </tr>\n",
       "    <tr>\n",
       "      <th>...</th>\n",
       "      <td>...</td>\n",
       "      <td>...</td>\n",
       "      <td>...</td>\n",
       "      <td>...</td>\n",
       "      <td>...</td>\n",
       "      <td>...</td>\n",
       "    </tr>\n",
       "    <tr>\n",
       "      <th>110</th>\n",
       "      <td>95</td>\n",
       "      <td>53086</td>\n",
       "      <td>15-2-2011</td>\n",
       "      <td>2.875822</td>\n",
       "      <td>16</td>\n",
       "      <td>4</td>\n",
       "    </tr>\n",
       "    <tr>\n",
       "      <th>111</th>\n",
       "      <td>96</td>\n",
       "      <td>5974</td>\n",
       "      <td>15-2-2011</td>\n",
       "      <td>16.269130</td>\n",
       "      <td>17</td>\n",
       "      <td>4</td>\n",
       "    </tr>\n",
       "    <tr>\n",
       "      <th>112</th>\n",
       "      <td>97</td>\n",
       "      <td>3246</td>\n",
       "      <td>5-3-2013</td>\n",
       "      <td>24.459522</td>\n",
       "      <td>17</td>\n",
       "      <td>4</td>\n",
       "    </tr>\n",
       "    <tr>\n",
       "      <th>113</th>\n",
       "      <td>98</td>\n",
       "      <td>18362</td>\n",
       "      <td>15-2-2011</td>\n",
       "      <td>2.897125</td>\n",
       "      <td>17</td>\n",
       "      <td>4</td>\n",
       "    </tr>\n",
       "    <tr>\n",
       "      <th>114</th>\n",
       "      <td>99</td>\n",
       "      <td>14786</td>\n",
       "      <td>15-2-2011</td>\n",
       "      <td>1.958442</td>\n",
       "      <td>17</td>\n",
       "      <td>4</td>\n",
       "    </tr>\n",
       "  </tbody>\n",
       "</table>\n",
       "<p>115 rows × 6 columns</p>\n",
       "</div>"
      ],
      "text/plain": [
       "    PRODUCT_NUMBER  QUANTITY INTRODUCTION_DATE   UNIT_COST PRODUCT_TYPE_CODE  \\\n",
       "0                1     41770         15-2-2011    4.113607                 1   \n",
       "1               10     15928         15-2-2011   10.429155                 1   \n",
       "2              100     29980         15-2-2011    2.848523                17   \n",
       "3              101      5764        15-12-2019  316.939286                18   \n",
       "4              102      5014        10-12-2019  402.653541                18   \n",
       "..             ...       ...               ...         ...               ...   \n",
       "110             95     53086         15-2-2011    2.875822                16   \n",
       "111             96      5974         15-2-2011   16.269130                17   \n",
       "112             97      3246          5-3-2013   24.459522                17   \n",
       "113             98     18362         15-2-2011    2.897125                17   \n",
       "114             99     14786         15-2-2011    1.958442                17   \n",
       "\n",
       "    PRODUCT_LINE_CODE  \n",
       "0                   1  \n",
       "1                   1  \n",
       "2                   4  \n",
       "3                   5  \n",
       "4                   5  \n",
       "..                ...  \n",
       "110                 4  \n",
       "111                 4  \n",
       "112                 4  \n",
       "113                 4  \n",
       "114                 4  \n",
       "\n",
       "[115 rows x 6 columns]"
      ]
     },
     "execution_count": 80,
     "metadata": {},
     "output_type": "execute_result"
    }
   ],
   "source": [
    "datasetProduct = datasetPrepProduct.groupby('PRODUCT_NUMBER').agg({\n",
    "    'QUANTITY': 'sum',\n",
    "    'INTRODUCTION_DATE': 'first',\n",
    "    'UNIT_COST': 'mean',\n",
    "    'PRODUCT_TYPE_CODE': 'first',\n",
    "    'PRODUCT_LINE_CODE': 'first'\n",
    "}).reset_index()\n",
    "datasetProduct"
   ]
  },
  {
   "cell_type": "markdown",
   "metadata": {},
   "source": [
    "Variabelen numeriek maken"
   ]
  },
  {
   "cell_type": "code",
   "execution_count": 81,
   "metadata": {},
   "outputs": [
    {
     "data": {
      "text/html": [
       "<div>\n",
       "<style scoped>\n",
       "    .dataframe tbody tr th:only-of-type {\n",
       "        vertical-align: middle;\n",
       "    }\n",
       "\n",
       "    .dataframe tbody tr th {\n",
       "        vertical-align: top;\n",
       "    }\n",
       "\n",
       "    .dataframe thead th {\n",
       "        text-align: right;\n",
       "    }\n",
       "</style>\n",
       "<table border=\"1\" class=\"dataframe\">\n",
       "  <thead>\n",
       "    <tr style=\"text-align: right;\">\n",
       "      <th></th>\n",
       "      <th>PRODUCT_NUMBER</th>\n",
       "      <th>QUANTITY</th>\n",
       "      <th>INTRODUCTION_DATE</th>\n",
       "      <th>UNIT_COST</th>\n",
       "      <th>PRODUCT_TYPE_CODE</th>\n",
       "      <th>PRODUCT_LINE_CODE</th>\n",
       "    </tr>\n",
       "  </thead>\n",
       "  <tbody>\n",
       "    <tr>\n",
       "      <th>0</th>\n",
       "      <td>1</td>\n",
       "      <td>41770</td>\n",
       "      <td>15-2-2011</td>\n",
       "      <td>4.113607</td>\n",
       "      <td>1</td>\n",
       "      <td>1</td>\n",
       "    </tr>\n",
       "    <tr>\n",
       "      <th>1</th>\n",
       "      <td>10</td>\n",
       "      <td>15928</td>\n",
       "      <td>15-2-2011</td>\n",
       "      <td>10.429155</td>\n",
       "      <td>1</td>\n",
       "      <td>1</td>\n",
       "    </tr>\n",
       "    <tr>\n",
       "      <th>2</th>\n",
       "      <td>100</td>\n",
       "      <td>29980</td>\n",
       "      <td>15-2-2011</td>\n",
       "      <td>2.848523</td>\n",
       "      <td>17</td>\n",
       "      <td>4</td>\n",
       "    </tr>\n",
       "    <tr>\n",
       "      <th>3</th>\n",
       "      <td>101</td>\n",
       "      <td>5764</td>\n",
       "      <td>15-12-2019</td>\n",
       "      <td>316.939286</td>\n",
       "      <td>18</td>\n",
       "      <td>5</td>\n",
       "    </tr>\n",
       "    <tr>\n",
       "      <th>4</th>\n",
       "      <td>102</td>\n",
       "      <td>5014</td>\n",
       "      <td>10-12-2019</td>\n",
       "      <td>402.653541</td>\n",
       "      <td>18</td>\n",
       "      <td>5</td>\n",
       "    </tr>\n",
       "    <tr>\n",
       "      <th>...</th>\n",
       "      <td>...</td>\n",
       "      <td>...</td>\n",
       "      <td>...</td>\n",
       "      <td>...</td>\n",
       "      <td>...</td>\n",
       "      <td>...</td>\n",
       "    </tr>\n",
       "    <tr>\n",
       "      <th>110</th>\n",
       "      <td>95</td>\n",
       "      <td>53086</td>\n",
       "      <td>15-2-2011</td>\n",
       "      <td>2.875822</td>\n",
       "      <td>16</td>\n",
       "      <td>4</td>\n",
       "    </tr>\n",
       "    <tr>\n",
       "      <th>111</th>\n",
       "      <td>96</td>\n",
       "      <td>5974</td>\n",
       "      <td>15-2-2011</td>\n",
       "      <td>16.269130</td>\n",
       "      <td>17</td>\n",
       "      <td>4</td>\n",
       "    </tr>\n",
       "    <tr>\n",
       "      <th>112</th>\n",
       "      <td>97</td>\n",
       "      <td>3246</td>\n",
       "      <td>5-3-2013</td>\n",
       "      <td>24.459522</td>\n",
       "      <td>17</td>\n",
       "      <td>4</td>\n",
       "    </tr>\n",
       "    <tr>\n",
       "      <th>113</th>\n",
       "      <td>98</td>\n",
       "      <td>18362</td>\n",
       "      <td>15-2-2011</td>\n",
       "      <td>2.897125</td>\n",
       "      <td>17</td>\n",
       "      <td>4</td>\n",
       "    </tr>\n",
       "    <tr>\n",
       "      <th>114</th>\n",
       "      <td>99</td>\n",
       "      <td>14786</td>\n",
       "      <td>15-2-2011</td>\n",
       "      <td>1.958442</td>\n",
       "      <td>17</td>\n",
       "      <td>4</td>\n",
       "    </tr>\n",
       "  </tbody>\n",
       "</table>\n",
       "<p>115 rows × 6 columns</p>\n",
       "</div>"
      ],
      "text/plain": [
       "    PRODUCT_NUMBER  QUANTITY INTRODUCTION_DATE   UNIT_COST PRODUCT_TYPE_CODE  \\\n",
       "0                1     41770         15-2-2011    4.113607                 1   \n",
       "1               10     15928         15-2-2011   10.429155                 1   \n",
       "2              100     29980         15-2-2011    2.848523                17   \n",
       "3              101      5764        15-12-2019  316.939286                18   \n",
       "4              102      5014        10-12-2019  402.653541                18   \n",
       "..             ...       ...               ...         ...               ...   \n",
       "110             95     53086         15-2-2011    2.875822                16   \n",
       "111             96      5974         15-2-2011   16.269130                17   \n",
       "112             97      3246          5-3-2013   24.459522                17   \n",
       "113             98     18362         15-2-2011    2.897125                17   \n",
       "114             99     14786         15-2-2011    1.958442                17   \n",
       "\n",
       "    PRODUCT_LINE_CODE  \n",
       "0                   1  \n",
       "1                   1  \n",
       "2                   4  \n",
       "3                   5  \n",
       "4                   5  \n",
       "..                ...  \n",
       "110                 4  \n",
       "111                 4  \n",
       "112                 4  \n",
       "113                 4  \n",
       "114                 4  \n",
       "\n",
       "[115 rows x 6 columns]"
      ]
     },
     "execution_count": 81,
     "metadata": {},
     "output_type": "execute_result"
    }
   ],
   "source": [
    "datasetProduct"
   ]
  },
  {
   "cell_type": "code",
   "execution_count": 82,
   "metadata": {},
   "outputs": [
    {
     "data": {
      "text/html": [
       "<div>\n",
       "<style scoped>\n",
       "    .dataframe tbody tr th:only-of-type {\n",
       "        vertical-align: middle;\n",
       "    }\n",
       "\n",
       "    .dataframe tbody tr th {\n",
       "        vertical-align: top;\n",
       "    }\n",
       "\n",
       "    .dataframe thead th {\n",
       "        text-align: right;\n",
       "    }\n",
       "</style>\n",
       "<table border=\"1\" class=\"dataframe\">\n",
       "  <thead>\n",
       "    <tr style=\"text-align: right;\">\n",
       "      <th></th>\n",
       "      <th>PRODUCT_NUMBER</th>\n",
       "      <th>QUANTITY</th>\n",
       "      <th>UNIT_COST</th>\n",
       "      <th>DAYS_SINCE_INTRODUCTION</th>\n",
       "      <th>1</th>\n",
       "      <th>10</th>\n",
       "      <th>11</th>\n",
       "      <th>12</th>\n",
       "      <th>13</th>\n",
       "      <th>14</th>\n",
       "      <th>...</th>\n",
       "      <th>5</th>\n",
       "      <th>6</th>\n",
       "      <th>7</th>\n",
       "      <th>8</th>\n",
       "      <th>9</th>\n",
       "      <th>1</th>\n",
       "      <th>2</th>\n",
       "      <th>3</th>\n",
       "      <th>4</th>\n",
       "      <th>5</th>\n",
       "    </tr>\n",
       "  </thead>\n",
       "  <tbody>\n",
       "    <tr>\n",
       "      <th>0</th>\n",
       "      <td>1</td>\n",
       "      <td>41770</td>\n",
       "      <td>4.113607</td>\n",
       "      <td>4800</td>\n",
       "      <td>True</td>\n",
       "      <td>False</td>\n",
       "      <td>False</td>\n",
       "      <td>False</td>\n",
       "      <td>False</td>\n",
       "      <td>False</td>\n",
       "      <td>...</td>\n",
       "      <td>False</td>\n",
       "      <td>False</td>\n",
       "      <td>False</td>\n",
       "      <td>False</td>\n",
       "      <td>False</td>\n",
       "      <td>True</td>\n",
       "      <td>False</td>\n",
       "      <td>False</td>\n",
       "      <td>False</td>\n",
       "      <td>False</td>\n",
       "    </tr>\n",
       "    <tr>\n",
       "      <th>1</th>\n",
       "      <td>10</td>\n",
       "      <td>15928</td>\n",
       "      <td>10.429155</td>\n",
       "      <td>4800</td>\n",
       "      <td>True</td>\n",
       "      <td>False</td>\n",
       "      <td>False</td>\n",
       "      <td>False</td>\n",
       "      <td>False</td>\n",
       "      <td>False</td>\n",
       "      <td>...</td>\n",
       "      <td>False</td>\n",
       "      <td>False</td>\n",
       "      <td>False</td>\n",
       "      <td>False</td>\n",
       "      <td>False</td>\n",
       "      <td>True</td>\n",
       "      <td>False</td>\n",
       "      <td>False</td>\n",
       "      <td>False</td>\n",
       "      <td>False</td>\n",
       "    </tr>\n",
       "    <tr>\n",
       "      <th>2</th>\n",
       "      <td>100</td>\n",
       "      <td>29980</td>\n",
       "      <td>2.848523</td>\n",
       "      <td>4800</td>\n",
       "      <td>False</td>\n",
       "      <td>False</td>\n",
       "      <td>False</td>\n",
       "      <td>False</td>\n",
       "      <td>False</td>\n",
       "      <td>False</td>\n",
       "      <td>...</td>\n",
       "      <td>False</td>\n",
       "      <td>False</td>\n",
       "      <td>False</td>\n",
       "      <td>False</td>\n",
       "      <td>False</td>\n",
       "      <td>False</td>\n",
       "      <td>False</td>\n",
       "      <td>False</td>\n",
       "      <td>True</td>\n",
       "      <td>False</td>\n",
       "    </tr>\n",
       "    <tr>\n",
       "      <th>3</th>\n",
       "      <td>101</td>\n",
       "      <td>5764</td>\n",
       "      <td>316.939286</td>\n",
       "      <td>1575</td>\n",
       "      <td>False</td>\n",
       "      <td>False</td>\n",
       "      <td>False</td>\n",
       "      <td>False</td>\n",
       "      <td>False</td>\n",
       "      <td>False</td>\n",
       "      <td>...</td>\n",
       "      <td>False</td>\n",
       "      <td>False</td>\n",
       "      <td>False</td>\n",
       "      <td>False</td>\n",
       "      <td>False</td>\n",
       "      <td>False</td>\n",
       "      <td>False</td>\n",
       "      <td>False</td>\n",
       "      <td>False</td>\n",
       "      <td>True</td>\n",
       "    </tr>\n",
       "    <tr>\n",
       "      <th>4</th>\n",
       "      <td>102</td>\n",
       "      <td>5014</td>\n",
       "      <td>402.653541</td>\n",
       "      <td>1580</td>\n",
       "      <td>False</td>\n",
       "      <td>False</td>\n",
       "      <td>False</td>\n",
       "      <td>False</td>\n",
       "      <td>False</td>\n",
       "      <td>False</td>\n",
       "      <td>...</td>\n",
       "      <td>False</td>\n",
       "      <td>False</td>\n",
       "      <td>False</td>\n",
       "      <td>False</td>\n",
       "      <td>False</td>\n",
       "      <td>False</td>\n",
       "      <td>False</td>\n",
       "      <td>False</td>\n",
       "      <td>False</td>\n",
       "      <td>True</td>\n",
       "    </tr>\n",
       "    <tr>\n",
       "      <th>...</th>\n",
       "      <td>...</td>\n",
       "      <td>...</td>\n",
       "      <td>...</td>\n",
       "      <td>...</td>\n",
       "      <td>...</td>\n",
       "      <td>...</td>\n",
       "      <td>...</td>\n",
       "      <td>...</td>\n",
       "      <td>...</td>\n",
       "      <td>...</td>\n",
       "      <td>...</td>\n",
       "      <td>...</td>\n",
       "      <td>...</td>\n",
       "      <td>...</td>\n",
       "      <td>...</td>\n",
       "      <td>...</td>\n",
       "      <td>...</td>\n",
       "      <td>...</td>\n",
       "      <td>...</td>\n",
       "      <td>...</td>\n",
       "      <td>...</td>\n",
       "    </tr>\n",
       "    <tr>\n",
       "      <th>110</th>\n",
       "      <td>95</td>\n",
       "      <td>53086</td>\n",
       "      <td>2.875822</td>\n",
       "      <td>4800</td>\n",
       "      <td>False</td>\n",
       "      <td>False</td>\n",
       "      <td>False</td>\n",
       "      <td>False</td>\n",
       "      <td>False</td>\n",
       "      <td>False</td>\n",
       "      <td>...</td>\n",
       "      <td>False</td>\n",
       "      <td>False</td>\n",
       "      <td>False</td>\n",
       "      <td>False</td>\n",
       "      <td>False</td>\n",
       "      <td>False</td>\n",
       "      <td>False</td>\n",
       "      <td>False</td>\n",
       "      <td>True</td>\n",
       "      <td>False</td>\n",
       "    </tr>\n",
       "    <tr>\n",
       "      <th>111</th>\n",
       "      <td>96</td>\n",
       "      <td>5974</td>\n",
       "      <td>16.269130</td>\n",
       "      <td>4800</td>\n",
       "      <td>False</td>\n",
       "      <td>False</td>\n",
       "      <td>False</td>\n",
       "      <td>False</td>\n",
       "      <td>False</td>\n",
       "      <td>False</td>\n",
       "      <td>...</td>\n",
       "      <td>False</td>\n",
       "      <td>False</td>\n",
       "      <td>False</td>\n",
       "      <td>False</td>\n",
       "      <td>False</td>\n",
       "      <td>False</td>\n",
       "      <td>False</td>\n",
       "      <td>False</td>\n",
       "      <td>True</td>\n",
       "      <td>False</td>\n",
       "    </tr>\n",
       "    <tr>\n",
       "      <th>112</th>\n",
       "      <td>97</td>\n",
       "      <td>3246</td>\n",
       "      <td>24.459522</td>\n",
       "      <td>4051</td>\n",
       "      <td>False</td>\n",
       "      <td>False</td>\n",
       "      <td>False</td>\n",
       "      <td>False</td>\n",
       "      <td>False</td>\n",
       "      <td>False</td>\n",
       "      <td>...</td>\n",
       "      <td>False</td>\n",
       "      <td>False</td>\n",
       "      <td>False</td>\n",
       "      <td>False</td>\n",
       "      <td>False</td>\n",
       "      <td>False</td>\n",
       "      <td>False</td>\n",
       "      <td>False</td>\n",
       "      <td>True</td>\n",
       "      <td>False</td>\n",
       "    </tr>\n",
       "    <tr>\n",
       "      <th>113</th>\n",
       "      <td>98</td>\n",
       "      <td>18362</td>\n",
       "      <td>2.897125</td>\n",
       "      <td>4800</td>\n",
       "      <td>False</td>\n",
       "      <td>False</td>\n",
       "      <td>False</td>\n",
       "      <td>False</td>\n",
       "      <td>False</td>\n",
       "      <td>False</td>\n",
       "      <td>...</td>\n",
       "      <td>False</td>\n",
       "      <td>False</td>\n",
       "      <td>False</td>\n",
       "      <td>False</td>\n",
       "      <td>False</td>\n",
       "      <td>False</td>\n",
       "      <td>False</td>\n",
       "      <td>False</td>\n",
       "      <td>True</td>\n",
       "      <td>False</td>\n",
       "    </tr>\n",
       "    <tr>\n",
       "      <th>114</th>\n",
       "      <td>99</td>\n",
       "      <td>14786</td>\n",
       "      <td>1.958442</td>\n",
       "      <td>4800</td>\n",
       "      <td>False</td>\n",
       "      <td>False</td>\n",
       "      <td>False</td>\n",
       "      <td>False</td>\n",
       "      <td>False</td>\n",
       "      <td>False</td>\n",
       "      <td>...</td>\n",
       "      <td>False</td>\n",
       "      <td>False</td>\n",
       "      <td>False</td>\n",
       "      <td>False</td>\n",
       "      <td>False</td>\n",
       "      <td>False</td>\n",
       "      <td>False</td>\n",
       "      <td>False</td>\n",
       "      <td>True</td>\n",
       "      <td>False</td>\n",
       "    </tr>\n",
       "  </tbody>\n",
       "</table>\n",
       "<p>115 rows × 30 columns</p>\n",
       "</div>"
      ],
      "text/plain": [
       "    PRODUCT_NUMBER  QUANTITY   UNIT_COST  DAYS_SINCE_INTRODUCTION      1  \\\n",
       "0                1     41770    4.113607                     4800   True   \n",
       "1               10     15928   10.429155                     4800   True   \n",
       "2              100     29980    2.848523                     4800  False   \n",
       "3              101      5764  316.939286                     1575  False   \n",
       "4              102      5014  402.653541                     1580  False   \n",
       "..             ...       ...         ...                      ...    ...   \n",
       "110             95     53086    2.875822                     4800  False   \n",
       "111             96      5974   16.269130                     4800  False   \n",
       "112             97      3246   24.459522                     4051  False   \n",
       "113             98     18362    2.897125                     4800  False   \n",
       "114             99     14786    1.958442                     4800  False   \n",
       "\n",
       "        10     11     12     13     14  ...      5      6      7      8  \\\n",
       "0    False  False  False  False  False  ...  False  False  False  False   \n",
       "1    False  False  False  False  False  ...  False  False  False  False   \n",
       "2    False  False  False  False  False  ...  False  False  False  False   \n",
       "3    False  False  False  False  False  ...  False  False  False  False   \n",
       "4    False  False  False  False  False  ...  False  False  False  False   \n",
       "..     ...    ...    ...    ...    ...  ...    ...    ...    ...    ...   \n",
       "110  False  False  False  False  False  ...  False  False  False  False   \n",
       "111  False  False  False  False  False  ...  False  False  False  False   \n",
       "112  False  False  False  False  False  ...  False  False  False  False   \n",
       "113  False  False  False  False  False  ...  False  False  False  False   \n",
       "114  False  False  False  False  False  ...  False  False  False  False   \n",
       "\n",
       "         9      1      2      3      4      5  \n",
       "0    False   True  False  False  False  False  \n",
       "1    False   True  False  False  False  False  \n",
       "2    False  False  False  False   True  False  \n",
       "3    False  False  False  False  False   True  \n",
       "4    False  False  False  False  False   True  \n",
       "..     ...    ...    ...    ...    ...    ...  \n",
       "110  False  False  False  False   True  False  \n",
       "111  False  False  False  False   True  False  \n",
       "112  False  False  False  False   True  False  \n",
       "113  False  False  False  False   True  False  \n",
       "114  False  False  False  False   True  False  \n",
       "\n",
       "[115 rows x 30 columns]"
      ]
     },
     "execution_count": 82,
     "metadata": {},
     "output_type": "execute_result"
    }
   ],
   "source": [
    "datasetProduct['DAYS_SINCE_INTRODUCTION'] = datasetProduct['INTRODUCTION_DATE'].apply(ToProductAge)\n",
    "datasetProduct.drop('INTRODUCTION_DATE', axis=1, inplace=True)\n",
    "\n",
    "\n",
    "typeDummies = pd.get_dummies(datasetProduct['PRODUCT_TYPE_CODE'])\n",
    "datasetProduct = pd.concat([datasetProduct, typeDummies], axis=1)\n",
    "datasetProduct.drop('PRODUCT_TYPE_CODE', axis=1, inplace=True)\n",
    "\n",
    "lineDummies = pd.get_dummies(datasetProduct['PRODUCT_LINE_CODE'])\n",
    "datasetProduct = pd.concat([datasetProduct, lineDummies], axis = 1)\n",
    "datasetProduct.drop('PRODUCT_LINE_CODE', axis=1, inplace=True)\n",
    "\n",
    "\n",
    "datasetProduct"
   ]
  },
  {
   "cell_type": "markdown",
   "metadata": {},
   "source": [
    "Dataset opdelen"
   ]
  },
  {
   "cell_type": "code",
   "execution_count": 83,
   "metadata": {},
   "outputs": [
    {
     "data": {
      "text/html": [
       "<div>\n",
       "<style scoped>\n",
       "    .dataframe tbody tr th:only-of-type {\n",
       "        vertical-align: middle;\n",
       "    }\n",
       "\n",
       "    .dataframe tbody tr th {\n",
       "        vertical-align: top;\n",
       "    }\n",
       "\n",
       "    .dataframe thead th {\n",
       "        text-align: right;\n",
       "    }\n",
       "</style>\n",
       "<table border=\"1\" class=\"dataframe\">\n",
       "  <thead>\n",
       "    <tr style=\"text-align: right;\">\n",
       "      <th></th>\n",
       "      <th>QUANTITY</th>\n",
       "    </tr>\n",
       "  </thead>\n",
       "  <tbody>\n",
       "    <tr>\n",
       "      <th>0</th>\n",
       "      <td>41770</td>\n",
       "    </tr>\n",
       "    <tr>\n",
       "      <th>1</th>\n",
       "      <td>15928</td>\n",
       "    </tr>\n",
       "    <tr>\n",
       "      <th>2</th>\n",
       "      <td>29980</td>\n",
       "    </tr>\n",
       "    <tr>\n",
       "      <th>3</th>\n",
       "      <td>5764</td>\n",
       "    </tr>\n",
       "    <tr>\n",
       "      <th>4</th>\n",
       "      <td>5014</td>\n",
       "    </tr>\n",
       "    <tr>\n",
       "      <th>...</th>\n",
       "      <td>...</td>\n",
       "    </tr>\n",
       "    <tr>\n",
       "      <th>110</th>\n",
       "      <td>53086</td>\n",
       "    </tr>\n",
       "    <tr>\n",
       "      <th>111</th>\n",
       "      <td>5974</td>\n",
       "    </tr>\n",
       "    <tr>\n",
       "      <th>112</th>\n",
       "      <td>3246</td>\n",
       "    </tr>\n",
       "    <tr>\n",
       "      <th>113</th>\n",
       "      <td>18362</td>\n",
       "    </tr>\n",
       "    <tr>\n",
       "      <th>114</th>\n",
       "      <td>14786</td>\n",
       "    </tr>\n",
       "  </tbody>\n",
       "</table>\n",
       "<p>115 rows × 1 columns</p>\n",
       "</div>"
      ],
      "text/plain": [
       "     QUANTITY\n",
       "0       41770\n",
       "1       15928\n",
       "2       29980\n",
       "3        5764\n",
       "4        5014\n",
       "..        ...\n",
       "110     53086\n",
       "111      5974\n",
       "112      3246\n",
       "113     18362\n",
       "114     14786\n",
       "\n",
       "[115 rows x 1 columns]"
      ]
     },
     "execution_count": 83,
     "metadata": {},
     "output_type": "execute_result"
    }
   ],
   "source": [
    "x = datasetProduct.drop('QUANTITY', axis = 1)\n",
    "y = datasetProduct.loc[:,['QUANTITY']]\n",
    "y"
   ]
  },
  {
   "cell_type": "code",
   "execution_count": 84,
   "metadata": {},
   "outputs": [
    {
     "ename": "NameError",
     "evalue": "name 'train_test_split' is not defined",
     "output_type": "error",
     "traceback": [
      "\u001b[1;31m---------------------------------------------------------------------------\u001b[0m",
      "\u001b[1;31mNameError\u001b[0m                                 Traceback (most recent call last)",
      "Cell \u001b[1;32mIn[84], line 2\u001b[0m\n\u001b[0;32m      1\u001b[0m \u001b[38;5;66;03m#horizontaal en verticaal snijden\u001b[39;00m\n\u001b[1;32m----> 2\u001b[0m x_train, x_test, y_train, y_test \u001b[38;5;241m=\u001b[39m \u001b[43mtrain_test_split\u001b[49m(\n\u001b[0;32m      3\u001b[0m     x, y, \n\u001b[0;32m      4\u001b[0m     test_size\u001b[38;5;241m=\u001b[39m\u001b[38;5;241m0.15\u001b[39m, random_state\u001b[38;5;241m=\u001b[39m\u001b[38;5;241m42\u001b[39m\n\u001b[0;32m      5\u001b[0m )\n",
      "\u001b[1;31mNameError\u001b[0m: name 'train_test_split' is not defined"
     ]
    }
   ],
   "source": [
    "#horizontaal en verticaal snijden\n",
    "x_train, x_test, y_train, y_test = train_test_split(\n",
    "    x, y, \n",
    "    test_size=0.15, random_state=42\n",
    ")"
   ]
  },
  {
   "cell_type": "code",
   "execution_count": null,
   "metadata": {},
   "outputs": [],
   "source": [
    "#regressiemodel bouwen\n",
    "model = LinearRegression().fit(x_train, y_train)\n",
    "model\n"
   ]
  },
  {
   "cell_type": "code",
   "execution_count": null,
   "metadata": {},
   "outputs": [],
   "source": [
    "#predictions maken\n",
    "y_pred = model.predict(x_test)\n",
    "y_df = pd.DataFrame(y_pred, columns=['QUANTITY_PREDICTED'])\n",
    "y_df"
   ]
  },
  {
   "cell_type": "code",
   "execution_count": null,
   "metadata": {},
   "outputs": [],
   "source": [
    "#combineren\n",
    "y_test_predictions_merge = pd.concat([y_test.reset_index()['QUANTITY'], y_df], axis=1)\n",
    "y_test_predictions_merge.loc[y_test_predictions_merge['QUANTITY_PREDICTED'].notna(),:]"
   ]
  },
  {
   "cell_type": "markdown",
   "metadata": {},
   "source": [
    "Resultaten analyseren"
   ]
  },
  {
   "cell_type": "code",
   "execution_count": null,
   "metadata": {},
   "outputs": [],
   "source": [
    "mean_squared_error(y_test['QUANTITY'], y_pred)"
   ]
  },
  {
   "cell_type": "code",
   "execution_count": null,
   "metadata": {},
   "outputs": [],
   "source": [
    "mean_absolute_error(y_test['QUANTITY'], y_pred)"
   ]
  },
  {
   "cell_type": "markdown",
   "metadata": {},
   "source": [
    "# Classificatiemodel"
   ]
  },
  {
   "cell_type": "code",
   "execution_count": null,
   "metadata": {},
   "outputs": [],
   "source": [
    "from datetime import datetime\n",
    "from sklearn.model_selection import train_test_split\n",
    "from sklearn import linear_model\n",
    "from sklearn.linear_model import LinearRegression\n",
    "from sklearn.metrics import mean_squared_error, mean_absolute_error\n",
    "import matplotlib.pyplot as plt"
   ]
  },
  {
   "cell_type": "markdown",
   "metadata": {},
   "source": [
    "# Data inlezen en kolommen selecteren"
   ]
  },
  {
   "cell_type": "code",
   "execution_count": 74,
   "metadata": {},
   "outputs": [
    {
     "ename": "FileNotFoundError",
     "evalue": "[Errno 2] No such file or directory: 'titanic.csv'",
     "output_type": "error",
     "traceback": [
      "\u001b[1;31m---------------------------------------------------------------------------\u001b[0m",
      "\u001b[1;31mFileNotFoundError\u001b[0m                         Traceback (most recent call last)",
      "Cell \u001b[1;32mIn[74], line 1\u001b[0m\n\u001b[1;32m----> 1\u001b[0m df \u001b[38;5;241m=\u001b[39m \u001b[43mpd\u001b[49m\u001b[38;5;241;43m.\u001b[39;49m\u001b[43mread_csv\u001b[49m\u001b[43m(\u001b[49m\u001b[38;5;124;43m\"\u001b[39;49m\u001b[38;5;124;43mtitanic.csv\u001b[39;49m\u001b[38;5;124;43m\"\u001b[39;49m\u001b[43m,\u001b[49m\u001b[43m \u001b[49m\u001b[43msep\u001b[49m\u001b[43m \u001b[49m\u001b[38;5;241;43m=\u001b[39;49m\u001b[43m \u001b[49m\u001b[38;5;124;43m'\u001b[39;49m\u001b[38;5;124;43m;\u001b[39;49m\u001b[38;5;124;43m'\u001b[39;49m\u001b[43m)\u001b[49m\n\u001b[0;32m      2\u001b[0m df\n",
      "File \u001b[1;32mc:\\Users\\akram\\OneDrive\\Documenten\\SE4 Software Engineering\\DEDS_portfolio\\DEDS Portfolio - Akram Achahboun en Sylvan Elderson\\Week 4\\Data-Warehouse\\.venv\\Lib\\site-packages\\pandas\\io\\parsers\\readers.py:1026\u001b[0m, in \u001b[0;36mread_csv\u001b[1;34m(filepath_or_buffer, sep, delimiter, header, names, index_col, usecols, dtype, engine, converters, true_values, false_values, skipinitialspace, skiprows, skipfooter, nrows, na_values, keep_default_na, na_filter, verbose, skip_blank_lines, parse_dates, infer_datetime_format, keep_date_col, date_parser, date_format, dayfirst, cache_dates, iterator, chunksize, compression, thousands, decimal, lineterminator, quotechar, quoting, doublequote, escapechar, comment, encoding, encoding_errors, dialect, on_bad_lines, delim_whitespace, low_memory, memory_map, float_precision, storage_options, dtype_backend)\u001b[0m\n\u001b[0;32m   1013\u001b[0m kwds_defaults \u001b[38;5;241m=\u001b[39m _refine_defaults_read(\n\u001b[0;32m   1014\u001b[0m     dialect,\n\u001b[0;32m   1015\u001b[0m     delimiter,\n\u001b[1;32m   (...)\u001b[0m\n\u001b[0;32m   1022\u001b[0m     dtype_backend\u001b[38;5;241m=\u001b[39mdtype_backend,\n\u001b[0;32m   1023\u001b[0m )\n\u001b[0;32m   1024\u001b[0m kwds\u001b[38;5;241m.\u001b[39mupdate(kwds_defaults)\n\u001b[1;32m-> 1026\u001b[0m \u001b[38;5;28;01mreturn\u001b[39;00m \u001b[43m_read\u001b[49m\u001b[43m(\u001b[49m\u001b[43mfilepath_or_buffer\u001b[49m\u001b[43m,\u001b[49m\u001b[43m \u001b[49m\u001b[43mkwds\u001b[49m\u001b[43m)\u001b[49m\n",
      "File \u001b[1;32mc:\\Users\\akram\\OneDrive\\Documenten\\SE4 Software Engineering\\DEDS_portfolio\\DEDS Portfolio - Akram Achahboun en Sylvan Elderson\\Week 4\\Data-Warehouse\\.venv\\Lib\\site-packages\\pandas\\io\\parsers\\readers.py:620\u001b[0m, in \u001b[0;36m_read\u001b[1;34m(filepath_or_buffer, kwds)\u001b[0m\n\u001b[0;32m    617\u001b[0m _validate_names(kwds\u001b[38;5;241m.\u001b[39mget(\u001b[38;5;124m\"\u001b[39m\u001b[38;5;124mnames\u001b[39m\u001b[38;5;124m\"\u001b[39m, \u001b[38;5;28;01mNone\u001b[39;00m))\n\u001b[0;32m    619\u001b[0m \u001b[38;5;66;03m# Create the parser.\u001b[39;00m\n\u001b[1;32m--> 620\u001b[0m parser \u001b[38;5;241m=\u001b[39m \u001b[43mTextFileReader\u001b[49m\u001b[43m(\u001b[49m\u001b[43mfilepath_or_buffer\u001b[49m\u001b[43m,\u001b[49m\u001b[43m \u001b[49m\u001b[38;5;241;43m*\u001b[39;49m\u001b[38;5;241;43m*\u001b[39;49m\u001b[43mkwds\u001b[49m\u001b[43m)\u001b[49m\n\u001b[0;32m    622\u001b[0m \u001b[38;5;28;01mif\u001b[39;00m chunksize \u001b[38;5;129;01mor\u001b[39;00m iterator:\n\u001b[0;32m    623\u001b[0m     \u001b[38;5;28;01mreturn\u001b[39;00m parser\n",
      "File \u001b[1;32mc:\\Users\\akram\\OneDrive\\Documenten\\SE4 Software Engineering\\DEDS_portfolio\\DEDS Portfolio - Akram Achahboun en Sylvan Elderson\\Week 4\\Data-Warehouse\\.venv\\Lib\\site-packages\\pandas\\io\\parsers\\readers.py:1620\u001b[0m, in \u001b[0;36mTextFileReader.__init__\u001b[1;34m(self, f, engine, **kwds)\u001b[0m\n\u001b[0;32m   1617\u001b[0m     \u001b[38;5;28mself\u001b[39m\u001b[38;5;241m.\u001b[39moptions[\u001b[38;5;124m\"\u001b[39m\u001b[38;5;124mhas_index_names\u001b[39m\u001b[38;5;124m\"\u001b[39m] \u001b[38;5;241m=\u001b[39m kwds[\u001b[38;5;124m\"\u001b[39m\u001b[38;5;124mhas_index_names\u001b[39m\u001b[38;5;124m\"\u001b[39m]\n\u001b[0;32m   1619\u001b[0m \u001b[38;5;28mself\u001b[39m\u001b[38;5;241m.\u001b[39mhandles: IOHandles \u001b[38;5;241m|\u001b[39m \u001b[38;5;28;01mNone\u001b[39;00m \u001b[38;5;241m=\u001b[39m \u001b[38;5;28;01mNone\u001b[39;00m\n\u001b[1;32m-> 1620\u001b[0m \u001b[38;5;28mself\u001b[39m\u001b[38;5;241m.\u001b[39m_engine \u001b[38;5;241m=\u001b[39m \u001b[38;5;28;43mself\u001b[39;49m\u001b[38;5;241;43m.\u001b[39;49m\u001b[43m_make_engine\u001b[49m\u001b[43m(\u001b[49m\u001b[43mf\u001b[49m\u001b[43m,\u001b[49m\u001b[43m \u001b[49m\u001b[38;5;28;43mself\u001b[39;49m\u001b[38;5;241;43m.\u001b[39;49m\u001b[43mengine\u001b[49m\u001b[43m)\u001b[49m\n",
      "File \u001b[1;32mc:\\Users\\akram\\OneDrive\\Documenten\\SE4 Software Engineering\\DEDS_portfolio\\DEDS Portfolio - Akram Achahboun en Sylvan Elderson\\Week 4\\Data-Warehouse\\.venv\\Lib\\site-packages\\pandas\\io\\parsers\\readers.py:1880\u001b[0m, in \u001b[0;36mTextFileReader._make_engine\u001b[1;34m(self, f, engine)\u001b[0m\n\u001b[0;32m   1878\u001b[0m     \u001b[38;5;28;01mif\u001b[39;00m \u001b[38;5;124m\"\u001b[39m\u001b[38;5;124mb\u001b[39m\u001b[38;5;124m\"\u001b[39m \u001b[38;5;129;01mnot\u001b[39;00m \u001b[38;5;129;01min\u001b[39;00m mode:\n\u001b[0;32m   1879\u001b[0m         mode \u001b[38;5;241m+\u001b[39m\u001b[38;5;241m=\u001b[39m \u001b[38;5;124m\"\u001b[39m\u001b[38;5;124mb\u001b[39m\u001b[38;5;124m\"\u001b[39m\n\u001b[1;32m-> 1880\u001b[0m \u001b[38;5;28mself\u001b[39m\u001b[38;5;241m.\u001b[39mhandles \u001b[38;5;241m=\u001b[39m \u001b[43mget_handle\u001b[49m\u001b[43m(\u001b[49m\n\u001b[0;32m   1881\u001b[0m \u001b[43m    \u001b[49m\u001b[43mf\u001b[49m\u001b[43m,\u001b[49m\n\u001b[0;32m   1882\u001b[0m \u001b[43m    \u001b[49m\u001b[43mmode\u001b[49m\u001b[43m,\u001b[49m\n\u001b[0;32m   1883\u001b[0m \u001b[43m    \u001b[49m\u001b[43mencoding\u001b[49m\u001b[38;5;241;43m=\u001b[39;49m\u001b[38;5;28;43mself\u001b[39;49m\u001b[38;5;241;43m.\u001b[39;49m\u001b[43moptions\u001b[49m\u001b[38;5;241;43m.\u001b[39;49m\u001b[43mget\u001b[49m\u001b[43m(\u001b[49m\u001b[38;5;124;43m\"\u001b[39;49m\u001b[38;5;124;43mencoding\u001b[39;49m\u001b[38;5;124;43m\"\u001b[39;49m\u001b[43m,\u001b[49m\u001b[43m \u001b[49m\u001b[38;5;28;43;01mNone\u001b[39;49;00m\u001b[43m)\u001b[49m\u001b[43m,\u001b[49m\n\u001b[0;32m   1884\u001b[0m \u001b[43m    \u001b[49m\u001b[43mcompression\u001b[49m\u001b[38;5;241;43m=\u001b[39;49m\u001b[38;5;28;43mself\u001b[39;49m\u001b[38;5;241;43m.\u001b[39;49m\u001b[43moptions\u001b[49m\u001b[38;5;241;43m.\u001b[39;49m\u001b[43mget\u001b[49m\u001b[43m(\u001b[49m\u001b[38;5;124;43m\"\u001b[39;49m\u001b[38;5;124;43mcompression\u001b[39;49m\u001b[38;5;124;43m\"\u001b[39;49m\u001b[43m,\u001b[49m\u001b[43m \u001b[49m\u001b[38;5;28;43;01mNone\u001b[39;49;00m\u001b[43m)\u001b[49m\u001b[43m,\u001b[49m\n\u001b[0;32m   1885\u001b[0m \u001b[43m    \u001b[49m\u001b[43mmemory_map\u001b[49m\u001b[38;5;241;43m=\u001b[39;49m\u001b[38;5;28;43mself\u001b[39;49m\u001b[38;5;241;43m.\u001b[39;49m\u001b[43moptions\u001b[49m\u001b[38;5;241;43m.\u001b[39;49m\u001b[43mget\u001b[49m\u001b[43m(\u001b[49m\u001b[38;5;124;43m\"\u001b[39;49m\u001b[38;5;124;43mmemory_map\u001b[39;49m\u001b[38;5;124;43m\"\u001b[39;49m\u001b[43m,\u001b[49m\u001b[43m \u001b[49m\u001b[38;5;28;43;01mFalse\u001b[39;49;00m\u001b[43m)\u001b[49m\u001b[43m,\u001b[49m\n\u001b[0;32m   1886\u001b[0m \u001b[43m    \u001b[49m\u001b[43mis_text\u001b[49m\u001b[38;5;241;43m=\u001b[39;49m\u001b[43mis_text\u001b[49m\u001b[43m,\u001b[49m\n\u001b[0;32m   1887\u001b[0m \u001b[43m    \u001b[49m\u001b[43merrors\u001b[49m\u001b[38;5;241;43m=\u001b[39;49m\u001b[38;5;28;43mself\u001b[39;49m\u001b[38;5;241;43m.\u001b[39;49m\u001b[43moptions\u001b[49m\u001b[38;5;241;43m.\u001b[39;49m\u001b[43mget\u001b[49m\u001b[43m(\u001b[49m\u001b[38;5;124;43m\"\u001b[39;49m\u001b[38;5;124;43mencoding_errors\u001b[39;49m\u001b[38;5;124;43m\"\u001b[39;49m\u001b[43m,\u001b[49m\u001b[43m \u001b[49m\u001b[38;5;124;43m\"\u001b[39;49m\u001b[38;5;124;43mstrict\u001b[39;49m\u001b[38;5;124;43m\"\u001b[39;49m\u001b[43m)\u001b[49m\u001b[43m,\u001b[49m\n\u001b[0;32m   1888\u001b[0m \u001b[43m    \u001b[49m\u001b[43mstorage_options\u001b[49m\u001b[38;5;241;43m=\u001b[39;49m\u001b[38;5;28;43mself\u001b[39;49m\u001b[38;5;241;43m.\u001b[39;49m\u001b[43moptions\u001b[49m\u001b[38;5;241;43m.\u001b[39;49m\u001b[43mget\u001b[49m\u001b[43m(\u001b[49m\u001b[38;5;124;43m\"\u001b[39;49m\u001b[38;5;124;43mstorage_options\u001b[39;49m\u001b[38;5;124;43m\"\u001b[39;49m\u001b[43m,\u001b[49m\u001b[43m \u001b[49m\u001b[38;5;28;43;01mNone\u001b[39;49;00m\u001b[43m)\u001b[49m\u001b[43m,\u001b[49m\n\u001b[0;32m   1889\u001b[0m \u001b[43m\u001b[49m\u001b[43m)\u001b[49m\n\u001b[0;32m   1890\u001b[0m \u001b[38;5;28;01massert\u001b[39;00m \u001b[38;5;28mself\u001b[39m\u001b[38;5;241m.\u001b[39mhandles \u001b[38;5;129;01mis\u001b[39;00m \u001b[38;5;129;01mnot\u001b[39;00m \u001b[38;5;28;01mNone\u001b[39;00m\n\u001b[0;32m   1891\u001b[0m f \u001b[38;5;241m=\u001b[39m \u001b[38;5;28mself\u001b[39m\u001b[38;5;241m.\u001b[39mhandles\u001b[38;5;241m.\u001b[39mhandle\n",
      "File \u001b[1;32mc:\\Users\\akram\\OneDrive\\Documenten\\SE4 Software Engineering\\DEDS_portfolio\\DEDS Portfolio - Akram Achahboun en Sylvan Elderson\\Week 4\\Data-Warehouse\\.venv\\Lib\\site-packages\\pandas\\io\\common.py:873\u001b[0m, in \u001b[0;36mget_handle\u001b[1;34m(path_or_buf, mode, encoding, compression, memory_map, is_text, errors, storage_options)\u001b[0m\n\u001b[0;32m    868\u001b[0m \u001b[38;5;28;01melif\u001b[39;00m \u001b[38;5;28misinstance\u001b[39m(handle, \u001b[38;5;28mstr\u001b[39m):\n\u001b[0;32m    869\u001b[0m     \u001b[38;5;66;03m# Check whether the filename is to be opened in binary mode.\u001b[39;00m\n\u001b[0;32m    870\u001b[0m     \u001b[38;5;66;03m# Binary mode does not support 'encoding' and 'newline'.\u001b[39;00m\n\u001b[0;32m    871\u001b[0m     \u001b[38;5;28;01mif\u001b[39;00m ioargs\u001b[38;5;241m.\u001b[39mencoding \u001b[38;5;129;01mand\u001b[39;00m \u001b[38;5;124m\"\u001b[39m\u001b[38;5;124mb\u001b[39m\u001b[38;5;124m\"\u001b[39m \u001b[38;5;129;01mnot\u001b[39;00m \u001b[38;5;129;01min\u001b[39;00m ioargs\u001b[38;5;241m.\u001b[39mmode:\n\u001b[0;32m    872\u001b[0m         \u001b[38;5;66;03m# Encoding\u001b[39;00m\n\u001b[1;32m--> 873\u001b[0m         handle \u001b[38;5;241m=\u001b[39m \u001b[38;5;28;43mopen\u001b[39;49m\u001b[43m(\u001b[49m\n\u001b[0;32m    874\u001b[0m \u001b[43m            \u001b[49m\u001b[43mhandle\u001b[49m\u001b[43m,\u001b[49m\n\u001b[0;32m    875\u001b[0m \u001b[43m            \u001b[49m\u001b[43mioargs\u001b[49m\u001b[38;5;241;43m.\u001b[39;49m\u001b[43mmode\u001b[49m\u001b[43m,\u001b[49m\n\u001b[0;32m    876\u001b[0m \u001b[43m            \u001b[49m\u001b[43mencoding\u001b[49m\u001b[38;5;241;43m=\u001b[39;49m\u001b[43mioargs\u001b[49m\u001b[38;5;241;43m.\u001b[39;49m\u001b[43mencoding\u001b[49m\u001b[43m,\u001b[49m\n\u001b[0;32m    877\u001b[0m \u001b[43m            \u001b[49m\u001b[43merrors\u001b[49m\u001b[38;5;241;43m=\u001b[39;49m\u001b[43merrors\u001b[49m\u001b[43m,\u001b[49m\n\u001b[0;32m    878\u001b[0m \u001b[43m            \u001b[49m\u001b[43mnewline\u001b[49m\u001b[38;5;241;43m=\u001b[39;49m\u001b[38;5;124;43m\"\u001b[39;49m\u001b[38;5;124;43m\"\u001b[39;49m\u001b[43m,\u001b[49m\n\u001b[0;32m    879\u001b[0m \u001b[43m        \u001b[49m\u001b[43m)\u001b[49m\n\u001b[0;32m    880\u001b[0m     \u001b[38;5;28;01melse\u001b[39;00m:\n\u001b[0;32m    881\u001b[0m         \u001b[38;5;66;03m# Binary mode\u001b[39;00m\n\u001b[0;32m    882\u001b[0m         handle \u001b[38;5;241m=\u001b[39m \u001b[38;5;28mopen\u001b[39m(handle, ioargs\u001b[38;5;241m.\u001b[39mmode)\n",
      "\u001b[1;31mFileNotFoundError\u001b[0m: [Errno 2] No such file or directory: 'titanic.csv'"
     ]
    }
   ],
   "source": [
    "df = pd.read_csv(\"titanic.csv\", sep = ';')\n",
    "df"
   ]
  },
  {
   "cell_type": "code",
   "execution_count": 76,
   "metadata": {},
   "outputs": [
    {
     "ename": "NameError",
     "evalue": "name 'df' is not defined",
     "output_type": "error",
     "traceback": [
      "\u001b[1;31m---------------------------------------------------------------------------\u001b[0m",
      "\u001b[1;31mNameError\u001b[0m                                 Traceback (most recent call last)",
      "Cell \u001b[1;32mIn[76], line 1\u001b[0m\n\u001b[1;32m----> 1\u001b[0m df \u001b[38;5;241m=\u001b[39m \u001b[43mdf\u001b[49m\u001b[38;5;241m.\u001b[39mloc[:, [\u001b[38;5;124m'\u001b[39m\u001b[38;5;124mPclass\u001b[39m\u001b[38;5;124m'\u001b[39m, \u001b[38;5;124m'\u001b[39m\u001b[38;5;124mSex\u001b[39m\u001b[38;5;124m'\u001b[39m, \u001b[38;5;124m'\u001b[39m\u001b[38;5;124mAge\u001b[39m\u001b[38;5;124m'\u001b[39m, \u001b[38;5;124m'\u001b[39m\u001b[38;5;124mSurvived\u001b[39m\u001b[38;5;124m'\u001b[39m]]\t\n",
      "\u001b[1;31mNameError\u001b[0m: name 'df' is not defined"
     ]
    }
   ],
   "source": [
    "df = df.loc[:, ['Pclass', 'Sex', 'Age', 'Survived']]\t"
   ]
  },
  {
   "cell_type": "code",
   "execution_count": 77,
   "metadata": {},
   "outputs": [
    {
     "ename": "NameError",
     "evalue": "name 'df' is not defined",
     "output_type": "error",
     "traceback": [
      "\u001b[1;31m---------------------------------------------------------------------------\u001b[0m",
      "\u001b[1;31mNameError\u001b[0m                                 Traceback (most recent call last)",
      "Cell \u001b[1;32mIn[77], line 1\u001b[0m\n\u001b[1;32m----> 1\u001b[0m df[\u001b[38;5;124m'\u001b[39m\u001b[38;5;124mPclass\u001b[39m\u001b[38;5;124m'\u001b[39m] \u001b[38;5;241m=\u001b[39m \u001b[43mdf\u001b[49m[\u001b[38;5;124m'\u001b[39m\u001b[38;5;124mPclass\u001b[39m\u001b[38;5;124m'\u001b[39m]\u001b[38;5;241m.\u001b[39mastype(\u001b[38;5;124m'\u001b[39m\u001b[38;5;124mstr\u001b[39m\u001b[38;5;124m'\u001b[39m)\n\u001b[0;32m      2\u001b[0m df\u001b[38;5;241m.\u001b[39mdtypes\n",
      "\u001b[1;31mNameError\u001b[0m: name 'df' is not defined"
     ]
    }
   ],
   "source": [
    "df['Pclass'] = df['Pclass'].astype('str')\n",
    "df.dtypes"
   ]
  },
  {
   "cell_type": "code",
   "execution_count": null,
   "metadata": {},
   "outputs": [],
   "source": [
    "dummies_dataframe = pd.get_dummies(df.loc[:, ['Sex', 'Pclass']])\n",
    "dummies_dataframe"
   ]
  },
  {
   "cell_type": "code",
   "execution_count": null,
   "metadata": {},
   "outputs": [],
   "source": [
    "df = pd.concat"
   ]
  },
  {
   "cell_type": "markdown",
   "metadata": {},
   "source": [
    "# Vanaf hier kan je het gebruiken\n"
   ]
  },
  {
   "cell_type": "code",
   "execution_count": null,
   "metadata": {},
   "outputs": [],
   "source": [
    "x_train, x_test, y_train, y_test = train_test_split(\n",
    "    x,\n",
    "    y,\n",
    "    test_size = 0.15,\n",
    "    random_state=42\n",
    ")"
   ]
  },
  {
   "cell_type": "code",
   "execution_count": null,
   "metadata": {},
   "outputs": [],
   "source": [
    "list(x.columns)"
   ]
  },
  {
   "cell_type": "markdown",
   "metadata": {},
   "source": [
    "# Decision Tree bouwen en evalueren "
   ]
  },
  {
   "cell_type": "markdown",
   "metadata": {},
   "source": [
    "Max_depth = 2"
   ]
  },
  {
   "cell_type": "code",
   "execution_count": null,
   "metadata": {},
   "outputs": [],
   "source": [
    "dtree = DecisionTreeClassifier(max_depth = 2)\n",
    "dtree = dtree.fit(x_train, y_train)\n",
    "tree.plot_tree(dtree, feature_names, x.columns)\n",
    "plt.show()"
   ]
  },
  {
   "cell_type": "code",
   "execution_count": null,
   "metadata": {},
   "outputs": [],
   "source": [
    "df_predicted = pd.Dataframe(dtree.predict(x_test))\n",
    "df_predicted = df_predicted.rename(columns = {0: 'Predicted_Survived'})\n",
    "resultaat_model = pd.concat([y_test.reset_index()['Survived'], predicted_df], axis = 1)\n",
    "resultaat_model"
   ]
  },
  {
   "cell_type": "code",
   "execution_count": null,
   "metadata": {},
   "outputs": [],
   "source": [
    "cf_matrix = metrics.cf_matrix(resultaat_model['Survived'], resultaat_model['Predicted_Survived'])\n",
    "cf_matrix_display = metrics.ConfusionMatrixDisplay(cf_matrix, display_labels = [False, True])\n",
    "\n",
    "cf_matrix_display.plot()\n",
    "plt.show()"
   ]
  },
  {
   "cell_type": "code",
   "execution_count": null,
   "metadata": {},
   "outputs": [],
   "source": [
    "metrics.accuracy_score(resultaat_model['Survived'], resultaat_model['Predicted_Survived'])"
   ]
  },
  {
   "cell_type": "markdown",
   "metadata": {},
   "source": [
    "Max_depth = 3"
   ]
  },
  {
   "cell_type": "code",
   "execution_count": null,
   "metadata": {},
   "outputs": [],
   "source": [
    "dtree = DecisionTreeClassifier(max_depth = 3)\n",
    "dtree = dtree.fit(x_train, y_train)\n",
    "tree.plot_tree(dtree, feature_names, x.columns)\n",
    "plt.show()"
   ]
  },
  {
   "cell_type": "code",
   "execution_count": null,
   "metadata": {},
   "outputs": [],
   "source": [
    "df_predicted = pd.Dataframe(dtree.predict(x_test))\n",
    "df_predicted = df_predicted.rename(columns = {0: 'Predicted_Survived'})\n",
    "resultaat_model = pd.concat([y_test.reset_index()['Survived'], predicted_df], axis = 1)\n",
    "resultaat_model"
   ]
  },
  {
   "cell_type": "code",
   "execution_count": null,
   "metadata": {},
   "outputs": [],
   "source": [
    "cf_matrix = metrics.cf_matrix(resultaat_model['Survived'], resultaat_model['Predicted_Survived'])\n",
    "cf_matrix_display = metrics.ConfusionMatrixDisplay(cf_matrix, display_labels = [False, True])\n",
    "\n",
    "cf_matrix_display.plot()\n",
    "plt.show()"
   ]
  },
  {
   "cell_type": "code",
   "execution_count": null,
   "metadata": {},
   "outputs": [],
   "source": [
    "metrics.accuracy_score(resultaat_model['Survived'], resultaat_model['Predicted_Survived'])"
   ]
  },
  {
   "cell_type": "markdown",
   "metadata": {},
   "source": [
    "Geen Max_depth"
   ]
  },
  {
   "cell_type": "code",
   "execution_count": null,
   "metadata": {},
   "outputs": [],
   "source": [
    "dtree = DecisionTreeClassifier()\n",
    "dtree = dtree.fit(x_train, y_train)\n",
    "tree.plot_tree(dtree, feature_names, x.columns)\n",
    "plt.show()"
   ]
  },
  {
   "cell_type": "markdown",
   "metadata": {},
   "source": [
    "Evalueren"
   ]
  },
  {
   "cell_type": "code",
   "execution_count": null,
   "metadata": {},
   "outputs": [],
   "source": [
    "df_predicted = pd.Dataframe(dtree.predict(x_test))\n",
    "df_predicted = df_predicted.rename(columns = {0: 'Predicted_Survived'})\n",
    "resultaat_model = pd.concat([y_test.reset_index()['Survived'], predicted_df], axis = 1)\n",
    "resultaat_model"
   ]
  },
  {
   "cell_type": "code",
   "execution_count": null,
   "metadata": {},
   "outputs": [],
   "source": [
    "cf_matrix = metrics.cf_matrix(resultaat_model['Survived'], resultaat_model['Predicted_Survived'])\n",
    "cf_matrix_display = metrics.ConfusionMatrixDisplay(cf_matrix, display_labels = [False, True])\n",
    "\n",
    "cf_matrix_display.plot()\n",
    "plt.show()"
   ]
  },
  {
   "cell_type": "code",
   "execution_count": null,
   "metadata": {},
   "outputs": [],
   "source": [
    "metrics.accuracy_score(resultaat_model['Survived'], resultaat_model['Predicted_Survived'])"
   ]
  }
 ],
 "metadata": {
  "kernelspec": {
   "display_name": "Data Warehouse",
   "language": "python",
   "name": "python3"
  },
  "language_info": {
   "codemirror_mode": {
    "name": "ipython",
    "version": 3
   },
   "file_extension": ".py",
   "mimetype": "text/x-python",
   "name": "python",
   "nbconvert_exporter": "python",
   "pygments_lexer": "ipython3",
   "version": "3.12.2"
  }
 },
 "nbformat": 4,
 "nbformat_minor": 2
}
