{
 "cells": [
  {
   "cell_type": "markdown",
   "metadata": {},
   "source": [
    "Packages importeren"
   ]
  },
  {
   "cell_type": "code",
   "execution_count": 57,
   "metadata": {},
   "outputs": [],
   "source": [
    "import pandas as pd\n",
    "import numpy as np\n",
    "import datetime as dt\n",
    "import pyodbc\n",
    "import sqlite3\n",
    "import sqlalchemy\n",
    "import matplotlib.pyplot as plt"
   ]
  },
  {
   "cell_type": "markdown",
   "metadata": {},
   "source": [
    "Connectie maken met Data Warehouse"
   ]
  },
  {
   "cell_type": "code",
   "execution_count": 58,
   "metadata": {},
   "outputs": [
    {
     "name": "stdout",
     "output_type": "stream",
     "text": [
      "<pyodbc.Cursor object at 0x000001E69DA8D630>\n"
     ]
    },
    {
     "data": {
      "text/plain": [
       "<pyodbc.Cursor at 0x1e69da8d630>"
      ]
     },
     "execution_count": 58,
     "metadata": {},
     "output_type": "execute_result"
    }
   ],
   "source": [
    "DB = {'servername': 'ENVY-AKRAM\\\\SQLEXPRESS','database': 'Great Outdoors - Akram en Sylvan'}\n",
    "conn_str = ('DRIVER={ODBC Driver 17 for SQL Server};SERVER=' + DB['servername'] + ';DATABASE=' + DB['database'] + ';Trusted_Connection=yes')\n",
    "export_conn = pyodbc.connect(conn_str, timeout=120)\n",
    "export_cursor = export_conn.cursor()\n",
    "\n",
    "engine = sqlalchemy.create_engine(f\"mssql+pyodbc:///?odbc_connect={conn_str}\")\n",
    "\n",
    "# Hoe checken we of de connectie werkt?\n",
    "print(export_cursor.execute(\"SELECT @@version;\"))\n",
    "'''\n",
    "DB = {'servername': os.getenv('NAME'),\n",
    "      'database': os.getenv('DATABASE'),\n",
    "      'username': os.getenv('USER'),\n",
    "      'password': os.getenv('PASSWORD')}\n",
    "\n",
    "# Increase the connection timeout value to 30 seconds\n",
    "conn_str = f\"DRIVER=SQL Server;SERVER={DB['servername']};DATABASE={DB['database']};UID={DB['username']};PWD={DB['password']};Trusted_Connection=yes;Connection\"\n",
    "\n",
    "conn = pyodbc.connect(conn_str, timeout=120)\n",
    "cursor = conn.cursor()\n",
    "'''\n",
    "export_cursor"
   ]
  },
  {
   "cell_type": "markdown",
   "metadata": {},
   "source": [
    "Connectie maken met brongegevens"
   ]
  },
  {
   "cell_type": "code",
   "execution_count": null,
   "metadata": {},
   "outputs": [],
   "source": [
    "go_sales_connection = sqlite3.connect('Data\\\\Brongegevens\\\\go_sales.sqlite')\n",
    "go_crm_connection = sqlite3.connect('Data\\\\Brongegevens\\\\go_crm.sqlite')\n",
    "go_staff_connection = sqlite3.connect('Data\\\\Brongegevens\\\\go_staff.sqlite')\n",
    "df_inventory = pd.read_csv('Data\\\\Brongegevens\\\\GO_SALES_INVENTORY_LEVELSData.csv')\n",
    "df_product = pd.read_csv('Data\\\\Brongegevens\\\\GO_SALES_PRODUCT_FORECASTData.csv')"
   ]
  },
  {
   "cell_type": "markdown",
   "metadata": {},
   "source": [
    "Helper functie tables inlezen"
   ]
  },
  {
   "cell_type": "code",
   "execution_count": null,
   "metadata": {},
   "outputs": [],
   "source": [
    "def readTable(connection, table):\n",
    "    query = 'SELECT * FROM ' + table\n",
    "    result = pd.read_sql_query(query, connection)\n",
    "    result = result.loc[:, ~result.columns.str.contains('trial', case=False)]\n",
    "    #verwijder trials\n",
    "    return result"
   ]
  },
  {
   "cell_type": "markdown",
   "metadata": {},
   "source": [
    "Database Go Sales"
   ]
  },
  {
   "cell_type": "code",
   "execution_count": null,
   "metadata": {},
   "outputs": [],
   "source": [
    "tables = pd.read_sql('SELECT name FROM sqlite_master WHERE type=\"table\"', go_sales_connection)\n",
    "country_go_sales = readTable(go_sales_connection, 'country')\n",
    "order_details = readTable(go_sales_connection, 'order_details')\n",
    "order_header = readTable(go_sales_connection, 'order_header')\n",
    "order_method = readTable(go_sales_connection, 'order_method')\n",
    "product = readTable(go_sales_connection, 'product')\n",
    "product_line = readTable(go_sales_connection, 'product_line')\n",
    "product_type = readTable(go_sales_connection, 'product_type')\n",
    "retailer_site_go_sales = readTable(go_sales_connection, 'retailer_site')\n",
    "return_reason = readTable(go_sales_connection, 'return_reason')\n",
    "sales_branch_go_sales = readTable(go_sales_connection, 'sales_branch')\n",
    "sales_staff_go_sales = readTable(go_sales_connection, 'sales_staff')\n",
    "sales_targetdata = readTable(go_sales_connection, 'SALES_TARGETData')\n",
    "tables  \n"
   ]
  },
  {
   "cell_type": "markdown",
   "metadata": {},
   "source": [
    "Database Go Staff"
   ]
  },
  {
   "cell_type": "code",
   "execution_count": null,
   "metadata": {},
   "outputs": [],
   "source": [
    "tables = pd.read_sql('SELECT name FROM sqlite_master WHERE type=\"table\"', go_staff_connection)\n",
    "course = readTable(go_staff_connection, 'course')\n",
    "sales_branch_go_staff = readTable(go_staff_connection, 'sales_branch')\n",
    "sales_staff_go_staff = readTable(go_staff_connection, 'sales_staff')\n",
    "satisfaction = readTable(go_staff_connection, 'satisfaction')\n",
    "satisfaction_type = readTable(go_staff_connection, 'satisfaction_type')\n",
    "training = readTable(go_staff_connection, 'training')\n",
    "tables\n"
   ]
  },
  {
   "cell_type": "markdown",
   "metadata": {},
   "source": [
    "Database Go Crm"
   ]
  },
  {
   "cell_type": "code",
   "execution_count": 56,
   "metadata": {},
   "outputs": [
    {
     "data": {
      "text/html": [
       "<div>\n",
       "<style scoped>\n",
       "    .dataframe tbody tr th:only-of-type {\n",
       "        vertical-align: middle;\n",
       "    }\n",
       "\n",
       "    .dataframe tbody tr th {\n",
       "        vertical-align: top;\n",
       "    }\n",
       "\n",
       "    .dataframe thead th {\n",
       "        text-align: right;\n",
       "    }\n",
       "</style>\n",
       "<table border=\"1\" class=\"dataframe\">\n",
       "  <thead>\n",
       "    <tr style=\"text-align: right;\">\n",
       "      <th></th>\n",
       "      <th>RETAILER_CODEMR</th>\n",
       "      <th>RETAILER_NAME</th>\n",
       "      <th>ADDRESS1</th>\n",
       "      <th>ADDRESS2</th>\n",
       "      <th>CITY</th>\n",
       "      <th>REGION</th>\n",
       "      <th>POSTAL_ZONE</th>\n",
       "      <th>COUNTRY_CODE</th>\n",
       "      <th>PHONE</th>\n",
       "      <th>FAX</th>\n",
       "      <th>SEGMENT_CODE</th>\n",
       "      <th>TRIAL222</th>\n",
       "    </tr>\n",
       "  </thead>\n",
       "  <tbody>\n",
       "    <tr>\n",
       "      <th>0</th>\n",
       "      <td>1</td>\n",
       "      <td>Rock Steady</td>\n",
       "      <td>45, rue Atwater</td>\n",
       "      <td>None</td>\n",
       "      <td>Montréal</td>\n",
       "      <td>Québec</td>\n",
       "      <td>H2T 9K8</td>\n",
       "      <td>4</td>\n",
       "      <td>1 (514) 747-4481</td>\n",
       "      <td>1 (514) 741-2277</td>\n",
       "      <td>2</td>\n",
       "      <td>T</td>\n",
       "    </tr>\n",
       "    <tr>\n",
       "      <th>1</th>\n",
       "      <td>10</td>\n",
       "      <td>Excellence en Montagne</td>\n",
       "      <td>160, rue Moureaux</td>\n",
       "      <td>Bureau 410</td>\n",
       "      <td>Ville de Québec</td>\n",
       "      <td>Québec</td>\n",
       "      <td>G1B 3L5</td>\n",
       "      <td>4</td>\n",
       "      <td>1 (418) 653-6456</td>\n",
       "      <td>1 (418) 653-2311</td>\n",
       "      <td>2</td>\n",
       "      <td>T</td>\n",
       "    </tr>\n",
       "    <tr>\n",
       "      <th>2</th>\n",
       "      <td>11</td>\n",
       "      <td>Vacation Central</td>\n",
       "      <td>3000, 58 Merivale Road</td>\n",
       "      <td>None</td>\n",
       "      <td>Ottawa</td>\n",
       "      <td>Ontario</td>\n",
       "      <td>K0T 9R0</td>\n",
       "      <td>4</td>\n",
       "      <td>1 (613) 736-6443</td>\n",
       "      <td>1 (613) 736-5593</td>\n",
       "      <td>6</td>\n",
       "      <td>T</td>\n",
       "    </tr>\n",
       "    <tr>\n",
       "      <th>3</th>\n",
       "      <td>12</td>\n",
       "      <td>Outdoor Central Ltd</td>\n",
       "      <td>Suite 23, 180 McKercher Drive</td>\n",
       "      <td>None</td>\n",
       "      <td>Regina</td>\n",
       "      <td>Saskatchewan</td>\n",
       "      <td>S6J 3G0</td>\n",
       "      <td>4</td>\n",
       "      <td>1 (306) 243-8764</td>\n",
       "      <td>1 (306) 243-5213</td>\n",
       "      <td>2</td>\n",
       "      <td>T</td>\n",
       "    </tr>\n",
       "    <tr>\n",
       "      <th>4</th>\n",
       "      <td>13</td>\n",
       "      <td>Precipice Equipment</td>\n",
       "      <td>23 Blackcomb Way</td>\n",
       "      <td>None</td>\n",
       "      <td>Whistler</td>\n",
       "      <td>British Columbia</td>\n",
       "      <td>V6T 1Y8</td>\n",
       "      <td>4</td>\n",
       "      <td>1 (604) 938-7564</td>\n",
       "      <td>1 (604) 938-2324</td>\n",
       "      <td>1</td>\n",
       "      <td>T</td>\n",
       "    </tr>\n",
       "    <tr>\n",
       "      <th>...</th>\n",
       "      <td>...</td>\n",
       "      <td>...</td>\n",
       "      <td>...</td>\n",
       "      <td>...</td>\n",
       "      <td>...</td>\n",
       "      <td>...</td>\n",
       "      <td>...</td>\n",
       "      <td>...</td>\n",
       "      <td>...</td>\n",
       "      <td>...</td>\n",
       "      <td>...</td>\n",
       "      <td>...</td>\n",
       "    </tr>\n",
       "    <tr>\n",
       "      <th>409</th>\n",
       "      <td>9</td>\n",
       "      <td>Over the Top Cycles</td>\n",
       "      <td>23 Nowlan Drive</td>\n",
       "      <td>None</td>\n",
       "      <td>Moncton</td>\n",
       "      <td>New Brunswick</td>\n",
       "      <td>E1A 2A7</td>\n",
       "      <td>4</td>\n",
       "      <td>1 (506) 849-8756</td>\n",
       "      <td>1 (506) 849-6432</td>\n",
       "      <td>7</td>\n",
       "      <td>T</td>\n",
       "    </tr>\n",
       "    <tr>\n",
       "      <th>410</th>\n",
       "      <td>90</td>\n",
       "      <td>Weston Outfitters</td>\n",
       "      <td>738 Greyling Street</td>\n",
       "      <td>None</td>\n",
       "      <td>San Diego</td>\n",
       "      <td>California</td>\n",
       "      <td>92129</td>\n",
       "      <td>3</td>\n",
       "      <td>1 (619) 223-1235</td>\n",
       "      <td>1 (619) 223-1245</td>\n",
       "      <td>2</td>\n",
       "      <td>T</td>\n",
       "    </tr>\n",
       "    <tr>\n",
       "      <th>411</th>\n",
       "      <td>91</td>\n",
       "      <td>Artículos de Campismo El Aquila, S.A. de C.V.</td>\n",
       "      <td>Avda. Chapultepec 246-303</td>\n",
       "      <td>Virreyes</td>\n",
       "      <td>Distrito Federal</td>\n",
       "      <td>México</td>\n",
       "      <td>06700</td>\n",
       "      <td>20</td>\n",
       "      <td>+(525) 684 7127</td>\n",
       "      <td>+(525) 684 7119</td>\n",
       "      <td>2</td>\n",
       "      <td>T</td>\n",
       "    </tr>\n",
       "    <tr>\n",
       "      <th>412</th>\n",
       "      <td>92</td>\n",
       "      <td>Todo para el Golf, S.A. de C.V.</td>\n",
       "      <td>Francisco Munguía No. 45</td>\n",
       "      <td>Atahualpa</td>\n",
       "      <td>Monterey</td>\n",
       "      <td>Nuevo León</td>\n",
       "      <td>30530</td>\n",
       "      <td>20</td>\n",
       "      <td>+(528) 366 6773</td>\n",
       "      <td>+(528) 366 6717</td>\n",
       "      <td>3</td>\n",
       "      <td>T</td>\n",
       "    </tr>\n",
       "    <tr>\n",
       "      <th>413</th>\n",
       "      <td>93</td>\n",
       "      <td>MER-KA-DOS, S.A. de C.V.</td>\n",
       "      <td>Río Rhin 56, Piso 6</td>\n",
       "      <td>Cuauhtemoc</td>\n",
       "      <td>Distrito Federal</td>\n",
       "      <td>México</td>\n",
       "      <td>06500</td>\n",
       "      <td>20</td>\n",
       "      <td>+(525) 645 9288</td>\n",
       "      <td>+(525) 645 9200</td>\n",
       "      <td>5</td>\n",
       "      <td>T</td>\n",
       "    </tr>\n",
       "  </tbody>\n",
       "</table>\n",
       "<p>414 rows × 12 columns</p>\n",
       "</div>"
      ],
      "text/plain": [
       "    RETAILER_CODEMR                                  RETAILER_NAME  \\\n",
       "0                 1                                    Rock Steady   \n",
       "1                10                         Excellence en Montagne   \n",
       "2                11                               Vacation Central   \n",
       "3                12                            Outdoor Central Ltd   \n",
       "4                13                            Precipice Equipment   \n",
       "..              ...                                            ...   \n",
       "409               9                            Over the Top Cycles   \n",
       "410              90                              Weston Outfitters   \n",
       "411              91  Artículos de Campismo El Aquila, S.A. de C.V.   \n",
       "412              92                Todo para el Golf, S.A. de C.V.   \n",
       "413              93                       MER-KA-DOS, S.A. de C.V.   \n",
       "\n",
       "                          ADDRESS1    ADDRESS2              CITY  \\\n",
       "0                  45, rue Atwater        None          Montréal   \n",
       "1                160, rue Moureaux  Bureau 410   Ville de Québec   \n",
       "2           3000, 58 Merivale Road        None            Ottawa   \n",
       "3    Suite 23, 180 McKercher Drive        None            Regina   \n",
       "4                 23 Blackcomb Way        None          Whistler   \n",
       "..                             ...         ...               ...   \n",
       "409                23 Nowlan Drive        None           Moncton   \n",
       "410            738 Greyling Street        None         San Diego   \n",
       "411      Avda. Chapultepec 246-303    Virreyes  Distrito Federal   \n",
       "412       Francisco Munguía No. 45   Atahualpa          Monterey   \n",
       "413            Río Rhin 56, Piso 6  Cuauhtemoc  Distrito Federal   \n",
       "\n",
       "               REGION POSTAL_ZONE COUNTRY_CODE             PHONE  \\\n",
       "0              Québec     H2T 9K8            4  1 (514) 747-4481   \n",
       "1              Québec     G1B 3L5            4  1 (418) 653-6456   \n",
       "2             Ontario     K0T 9R0            4  1 (613) 736-6443   \n",
       "3        Saskatchewan     S6J 3G0            4  1 (306) 243-8764   \n",
       "4    British Columbia     V6T 1Y8            4  1 (604) 938-7564   \n",
       "..                ...         ...          ...               ...   \n",
       "409     New Brunswick     E1A 2A7            4  1 (506) 849-8756   \n",
       "410        California       92129            3  1 (619) 223-1235   \n",
       "411            México       06700           20   +(525) 684 7127   \n",
       "412        Nuevo León       30530           20   +(528) 366 6773   \n",
       "413            México       06500           20   +(525) 645 9288   \n",
       "\n",
       "                  FAX SEGMENT_CODE TRIAL222  \n",
       "0    1 (514) 741-2277            2        T  \n",
       "1    1 (418) 653-2311            2        T  \n",
       "2    1 (613) 736-5593            6        T  \n",
       "3    1 (306) 243-5213            2        T  \n",
       "4    1 (604) 938-2324            1        T  \n",
       "..                ...          ...      ...  \n",
       "409  1 (506) 849-6432            7        T  \n",
       "410  1 (619) 223-1245            2        T  \n",
       "411   +(525) 684 7119            2        T  \n",
       "412   +(528) 366 6717            3        T  \n",
       "413   +(525) 645 9200            5        T  \n",
       "\n",
       "[414 rows x 12 columns]"
      ]
     },
     "execution_count": 56,
     "metadata": {},
     "output_type": "execute_result"
    }
   ],
   "source": [
    "tables = pd.read_sql('SELECT name FROM sqlite_master WHERE type=\"table\"', go_crm_connection)\n",
    "age_group = readTable(go_crm_connection, 'age_group')\n",
    "country_go_crm = readTable(go_crm_connection, 'country')\n",
    "retailer = readTable(go_crm_connection, 'retailer')\n",
    "retailer_contact = readTable(go_crm_connection, 'retailer_contact')\n",
    "retailer_headquarters = readTable(go_crm_connection, 'retailer_headquarters')\n",
    "retailer_segment = readTable(go_crm_connection, 'retailer_segment')\n",
    "retailer_site_go_crm = readTable(go_crm_connection, 'retailer_site')\n",
    "retailer_type = readTable(go_crm_connection, 'retailer_type')\n",
    "sales_demographic = readTable(go_crm_connection, 'sales_demographic')\n",
    "sales_territory = readTable(go_crm_connection, 'sales_territory')\n",
    "tables\n",
    "\n",
    "retailer_headquarters\n"
   ]
  },
  {
   "cell_type": "markdown",
   "metadata": {},
   "source": [
    "# Unions"
   ]
  },
  {
   "cell_type": "code",
   "execution_count": null,
   "metadata": {},
   "outputs": [],
   "source": [
    "sales_staff_union = pd.concat([sales_staff_go_staff, sales_staff_go_sales])\n",
    "sales_staff_union.drop_duplicates(subset='SALES_STAFF_CODE', ignore_index=True, inplace=True)\n",
    "sales_staff_union\n",
    "#heeft overwegingen nodig op: \n",
    "#trial633/888\n",
    "#manager_code\n"
   ]
  },
  {
   "cell_type": "code",
   "execution_count": null,
   "metadata": {},
   "outputs": [],
   "source": [
    "sales_branch_union = pd.concat([sales_branch_go_staff, sales_branch_go_sales])\n",
    "sales_branch_union.drop_duplicates(subset='SALES_BRANCH_CODE', ignore_index=True, inplace=True)\n",
    "sales_branch_union\n",
    "#trial633"
   ]
  },
  {
   "cell_type": "code",
   "execution_count": null,
   "metadata": {},
   "outputs": [],
   "source": [
    "retailer_site_union = pd.concat([retailer_site_go_crm, retailer_site_go_sales])\n",
    "retailer_site_union.drop_duplicates(subset='RETAILER_SITE_CODE', ignore_index=True, inplace=True)\n",
    "retailer_site_union\n",
    "#trial222/888"
   ]
  },
  {
   "cell_type": "code",
   "execution_count": null,
   "metadata": {},
   "outputs": [],
   "source": [
    "country_go_crm_union = pd.merge(country_go_crm, sales_territory, on='SALES_TERRITORY_CODE', how='outer')\n",
    "country_union = pd.merge(country_go_sales, country_go_crm_union, on='COUNTRY_CODE', how='outer')\n",
    "country_union.drop_duplicates(subset='COUNTRY_CODE', ignore_index=True, inplace=True)\n",
    "country_union\n",
    "#not actually a union\n",
    "#trial219/222"
   ]
  },
  {
   "cell_type": "markdown",
   "metadata": {},
   "source": [
    "# Verborgen Dimensies"
   ]
  },
  {
   "cell_type": "markdown",
   "metadata": {},
   "source": [
    "Date"
   ]
  },
  {
   "cell_type": "code",
   "execution_count": null,
   "metadata": {},
   "outputs": [],
   "source": [
    "#iets"
   ]
  },
  {
   "cell_type": "markdown",
   "metadata": {},
   "source": [
    "ToDate() Functions"
   ]
  },
  {
   "cell_type": "code",
   "execution_count": null,
   "metadata": {},
   "outputs": [],
   "source": [
    "#is dit nodig?"
   ]
  },
  {
   "cell_type": "markdown",
   "metadata": {},
   "source": [
    "Month"
   ]
  },
  {
   "cell_type": "code",
   "execution_count": null,
   "metadata": {},
   "outputs": [],
   "source": [
    "#iets"
   ]
  },
  {
   "cell_type": "markdown",
   "metadata": {},
   "source": [
    "# Simpele Dimensies"
   ]
  },
  {
   "cell_type": "markdown",
   "metadata": {},
   "source": [
    "Return Reason"
   ]
  },
  {
   "cell_type": "code",
   "execution_count": null,
   "metadata": {},
   "outputs": [],
   "source": [
    "def ToReasonCategory(str):\n",
    "\n",
    "    if 'wrong' in str.lower():\n",
    "        return 'Wrong Product'\n",
    "    elif 'unsatisfactory' in str.lower():\n",
    "        return 'Unsatisfactory'\n",
    "    else:\n",
    "        return 'Faulty'\n",
    "\n",
    "return_reason_dw = return_reason.copy()\n",
    "return_reason_dw['RETURN_CATEGORY'] = return_reason_dw['RETURN_DESCRIPTION_EN'].apply(ToReasonCategory)\n",
    "return_reason_dw\n",
    "\n",
    "#trial888"
   ]
  },
  {
   "cell_type": "markdown",
   "metadata": {},
   "source": [
    "Course"
   ]
  },
  {
   "cell_type": "code",
   "execution_count": null,
   "metadata": {},
   "outputs": [],
   "source": [
    "def ToCourseCategory(str):\n",
    "\n",
    "    if 'marketing' in str.lower():\n",
    "        return 'Marketing'\n",
    "    elif 'sales' in str.lower():\n",
    "        return 'Sales'\n",
    "    elif 'management' in str.lower():\n",
    "        return 'Management'\n",
    "    elif 'communication' in str.lower():\n",
    "        return 'Communication'\n",
    "    elif 'orientation' in str.lower():\n",
    "        return 'Orientation'\n",
    "    else: \n",
    "        return 'Other'\n",
    "\n",
    "course_dw = course.copy()\n",
    "course_dw['COURSE_CATEGORY'] = course_dw['COURSE_DESCRIPTION'].apply(ToCourseCategory)\n",
    "course_dw\n",
    "\n",
    "#trial633"
   ]
  },
  {
   "cell_type": "markdown",
   "metadata": {},
   "source": [
    "Order Method"
   ]
  },
  {
   "cell_type": "code",
   "execution_count": null,
   "metadata": {},
   "outputs": [],
   "source": [
    "order_method_dw = order_method.copy()\n",
    "#fuck de categorie\n",
    "#trial888"
   ]
  },
  {
   "cell_type": "markdown",
   "metadata": {},
   "source": [
    "Satisfaction Type"
   ]
  },
  {
   "cell_type": "code",
   "execution_count": null,
   "metadata": {},
   "outputs": [],
   "source": [
    "def ToSatisfied(nr):\n",
    "    try:\n",
    "        return int(nr) >= 3\n",
    "    except ValueError:\n",
    "        return False\n",
    "\n",
    "satisfaction_type_dw = satisfaction_type.copy\n",
    "satisfaction_type_dw['SATISFIED_BOOLEAN'] = satisfaction_type['SATISFACTION_TYPE_CODE'].apply(ToSatisfied)\n",
    "satisfaction_type_dw"
   ]
  },
  {
   "cell_type": "markdown",
   "metadata": {},
   "source": [
    "# Merges (dimensies)"
   ]
  },
  {
   "cell_type": "markdown",
   "metadata": {},
   "source": [
    "Retailer Headquarters"
   ]
  },
  {
   "cell_type": "code",
   "execution_count": null,
   "metadata": {},
   "outputs": [],
   "source": [
    "retailer_headquarters_dw = pd.merge(\n",
    "    retailer_headquarters.add_prefix('RT_HEADQUARTERS_'), country_union.add_prefix('COUNTRY_'), \n",
    "    left_on = 'RT_HEADQUARTERS_COUNTRY_CODE', right_on='COUNTRY_COUNTRY_CODE', how='outer')\n",
    "retailer_headquarters_dw = pd.merge(\n",
    "    retailer_headquarters_dw, retailer_segment.add_prefix('RT_SEGMENT_'), \n",
    "    left_on = 'RT_HEADQUARTERS_SEGMENT_CODE', right_on='RT_SEGMENT_SEGMENT_CODE', how='outer')\n",
    "#segment category\n",
    "retailer_headquarters_dw\n",
    "#trial219/222"
   ]
  },
  {
   "cell_type": "markdown",
   "metadata": {},
   "source": [
    "Retailer Contact"
   ]
  },
  {
   "cell_type": "code",
   "execution_count": null,
   "metadata": {},
   "outputs": [],
   "source": [
    "retailer_contact_dw = pd.merge(\n",
    "    retailer_contact.add_prefix('RT_CONTACT_'), retailer_site_union.add_prefix('RT_SITE_'), \n",
    "    left_on='RT_CONTACT_RETAILER_SITE_CODE', right_on='RT_SITE_RETAILER_SITE_CODE', how='inner')\n",
    "#position category\n",
    "retailer_contact_dw = pd.merge(\n",
    "    retailer_contact_dw, retailer.add_prefix('RT_'), \n",
    "    left_on='RT_SITE_RETAILER_CODE', right_on='RT_RETAILER_CODE', how='inner')\n",
    "retailer_contact_dw = pd.merge(\n",
    "    retailer_contact_dw, retailer_type.add_prefix('RT_TYPE_'), \n",
    "    left_on='RT_RETAILER_TYPE_CODE', right_on='RT_TYPE_RETAILER_TYPE_CODE', how='inner')\n",
    "retailer_contact_dw = pd.merge(\n",
    "    retailer_contact_dw, retailer_headquarters_dw, \n",
    "    left_on='RT_RETAILER_CODEMR', right_on='RT_HEADQUARTERS_RETAILER_CODEMR', how='inner')\n",
    "retailer_contact_dw\n",
    "#trial222/888\n",
    "#loc: any non americas?"
   ]
  },
  {
   "cell_type": "markdown",
   "metadata": {},
   "source": [
    "Sales Staff"
   ]
  },
  {
   "cell_type": "code",
   "execution_count": null,
   "metadata": {},
   "outputs": [],
   "source": [
    "sales_staff_dw = pd.merge(\n",
    "    sales_staff_union.add_prefix('SALES_STAFF_'), sales_branch_union.add_prefix('SALES_BRANCH_'), \n",
    "    left_on='SALES_STAFF_SALES_BRANCH_CODE', right_on='SALES_BRANCH_SALES_BRANCH_CODE', how='inner')\n",
    "sales_staff_dw = pd.merge(\n",
    "    sales_staff_dw, country_go_sales.add_prefix('COUNTRY_'),\n",
    "    left_on='SALES_BRANCH_COUNTRY_CODE', right_on='COUNTRY_COUNTRY_CODE', how='inner')\n",
    "sales_staff_dw\n",
    "#trial633/888"
   ]
  },
  {
   "cell_type": "markdown",
   "metadata": {},
   "source": [
    "Retailer Headquarters"
   ]
  },
  {
   "cell_type": "code",
   "execution_count": null,
   "metadata": {},
   "outputs": [],
   "source": [
    "#wat doen we hiermee?\n",
    "\"\"\"\n",
    "retailer_headquarters = pd.merge(\n",
    "    retailer_headquarters[['RETAILER_CODEMR', 'RETAILER_NAME', 'ADDRESS1', 'ADDRESS2', 'POSTAL_ZONE', 'CITY', 'COUNTRY_CODE', 'REGION', 'PHONE', 'FAX', 'SEGMENT_CODE']], \n",
    "    country[['COUNTRY_CODE', 'COUNTRY_EN', 'FLAG_IMAGE', 'SALES_TERRITORY_CODE']], left_on='COUNTRY_CODE', right_on='COUNTRY_CODE', \n",
    "    how='inner'\n",
    "    ).merge(sales_territory[['SALES_TERRITORY_CODE', 'TERRITORY_NAME_EN']], left_on='SALES_TERRITORY_CODE', right_on='SALES_TERRITORY_CODE', how='inner'\n",
    "            ).merge(retailer_segment[['SEGMENT_CODE', 'LANGUAGE', 'SEGMENT_NAME', 'SEGMENT_DESCRIPTION']], left_on='SEGMENT_CODE', right_on='SEGMENT_CODE', how='inner')\n",
    "retailer_headquarters\n",
    "\"\"\""
   ]
  },
  {
   "cell_type": "markdown",
   "metadata": {},
   "source": [
    "Product"
   ]
  },
  {
   "cell_type": "code",
   "execution_count": null,
   "metadata": {},
   "outputs": [],
   "source": [
    "#zijn de koloomen nodig?\n",
    "#prefixes toevoegen\n",
    "product_dw = pd.merge(\n",
    "    product[['PRODUCT_NUMBER', 'PRODUCT_NAME', 'PRODUCT_IMAGE', 'DESCRIPTION', 'INTRODUCTION_DATE', 'PRODUCTION_COST', 'MARGIN', 'LANGUAGE', 'PRODUCT_TYPE_CODE']], \n",
    "    product_type[['PRODUCT_TYPE_CODE', 'PRODUCT_TYPE_EN', 'PRODUCT_LINE_CODE']], \n",
    "    left_on='PRODUCT_TYPE_CODE', right_on='PRODUCT_TYPE_CODE', how='inner'\n",
    "    ).merge( \n",
    "        product_line[['PRODUCT_LINE_CODE', 'PRODUCT_LINE_EN']], \n",
    "        left_on='PRODUCT_LINE_CODE', right_on='PRODUCT_LINE_CODE', how='inner')\n",
    "product_dw"
   ]
  },
  {
   "cell_type": "markdown",
   "metadata": {},
   "source": [
    "Sales Demographic"
   ]
  },
  {
   "cell_type": "code",
   "execution_count": null,
   "metadata": {},
   "outputs": [],
   "source": [
    "#prefixes\n",
    "sales_demographic = pd.merge(\n",
    "    sales_demographic[['DEMOGRAPHIC_CODE', 'SALES_PERCENT', 'RETAILER_CODEMR', 'AGE_GROUP_CODE']]\n",
    "    , age_group[['AGE_GROUP_CODE', 'UPPER_AGE', 'LOWER_AGE']], left_on='AGE_GROUP_CODE', right_on='AGE_GROUP_CODE', how='inner')\n",
    "sales_demographic"
   ]
  },
  {
   "cell_type": "markdown",
   "metadata": {},
   "source": [
    "# Merges (feiten)"
   ]
  },
  {
   "cell_type": "markdown",
   "metadata": {},
   "source": [
    "Sales Target"
   ]
  },
  {
   "cell_type": "code",
   "execution_count": null,
   "metadata": {},
   "outputs": [],
   "source": [
    "sales_targetdata_dw = pd.DataFrame()\n",
    "\n",
    "sales_targetdata_dw['SALES_TARGETDATA_CODE'] = sales_targetdata['Id']\n",
    "sales_targetdata_dw['SALES_TARGETDATA_SALES_TARGET'] = sales_targetdata['SALES_TARGET']\n",
    "sales_targetdata_dw['MONTH_YEAR'] = sales_targetdata['SALES_PERIOD']\n",
    "sales_targetdata_dw['MONTH_MONTH'] = sales_targetdata['SALES_YEAR']\n",
    "sales_targetdata_dw['PRODUCT_PRODUCT_NUMBER'] = sales_targetdata['PRODUCT_NUMBER']\n",
    "sales_targetdata_dw['SALES_STAFF_SALES_STAFF_CODE'] = sales_targetdata['SALES_STAFF_CODE']\n",
    "sales_targetdata_dw['RETAILER_RETAILER_CODE'] = sales_targetdata['RETAILER_CODE']\n",
    "\n",
    "sales_targetdata_dw\n",
    "#take month from MONTH\n",
    "#ETL klopt niet - sales branch en order method verbinden niet\n",
    "\n",
    "#trial879"
   ]
  },
  {
   "cell_type": "markdown",
   "metadata": {},
   "source": [
    "Inventory Levels"
   ]
  },
  {
   "cell_type": "code",
   "execution_count": null,
   "metadata": {},
   "outputs": [],
   "source": [
    "#->>"
   ]
  },
  {
   "cell_type": "markdown",
   "metadata": {},
   "source": [
    "Training"
   ]
  },
  {
   "cell_type": "code",
   "execution_count": null,
   "metadata": {},
   "outputs": [],
   "source": [
    "#prefixes\n",
    "training = pd.merge(\n",
    "    course[['COURSE_CODE', 'COURSE_DESCRIPTION']],\n",
    "    training[['COURSE_CODE', 'SALES_STAFF_CODE', 'YEAR']], left_on='COURSE_CODE', right_on='COURSE_CODE', how='inner')\n",
    "training"
   ]
  },
  {
   "cell_type": "markdown",
   "metadata": {},
   "source": [
    "Satisfaction"
   ]
  },
  {
   "cell_type": "code",
   "execution_count": null,
   "metadata": {},
   "outputs": [],
   "source": [
    "#prefixes\n",
    "satisfaction = pd.merge(\n",
    "    satisfaction[['YEAR', 'SALES_STAFF_CODE', 'SATISFACTION_TYPE_CODE']],\n",
    "    satisfaction_type[['SATISFACTION_TYPE_CODE', 'SATISFACTION_TYPE_DESCRIPTION']], left_on='SATISFACTION_TYPE_CODE', right_on='SATISFACTION_TYPE_CODE', how='inner')\n",
    "satisfaction"
   ]
  },
  {
   "cell_type": "markdown",
   "metadata": {},
   "source": [
    "Order"
   ]
  },
  {
   "cell_type": "code",
   "execution_count": null,
   "metadata": {},
   "outputs": [],
   "source": [
    "#->>"
   ]
  },
  {
   "cell_type": "markdown",
   "metadata": {},
   "source": [
    "Returned Item"
   ]
  },
  {
   "cell_type": "code",
   "execution_count": null,
   "metadata": {},
   "outputs": [],
   "source": [
    "#->>"
   ]
  },
  {
   "cell_type": "markdown",
   "metadata": {},
   "source": [
    "Product Forecast"
   ]
  },
  {
   "cell_type": "code",
   "execution_count": null,
   "metadata": {},
   "outputs": [],
   "source": [
    "#->>"
   ]
  },
  {
   "cell_type": "markdown",
   "metadata": {},
   "source": [
    "# Naar Database pushen"
   ]
  },
  {
   "cell_type": "markdown",
   "metadata": {},
   "source": [
    "To SQL"
   ]
  },
  {
   "cell_type": "code",
   "execution_count": 61,
   "metadata": {},
   "outputs": [
    {
     "data": {
      "text/html": [
       "<div>\n",
       "<style scoped>\n",
       "    .dataframe tbody tr th:only-of-type {\n",
       "        vertical-align: middle;\n",
       "    }\n",
       "\n",
       "    .dataframe tbody tr th {\n",
       "        vertical-align: top;\n",
       "    }\n",
       "\n",
       "    .dataframe thead th {\n",
       "        text-align: right;\n",
       "    }\n",
       "</style>\n",
       "<table border=\"1\" class=\"dataframe\">\n",
       "  <thead>\n",
       "    <tr style=\"text-align: right;\">\n",
       "      <th></th>\n",
       "      <th>RETURN_REASON_CODE</th>\n",
       "      <th>RETURN_DESCRIPTION_EN</th>\n",
       "      <th>TRIAL888</th>\n",
       "      <th>RETURN_CATEGORY</th>\n",
       "    </tr>\n",
       "  </thead>\n",
       "  <tbody>\n",
       "    <tr>\n",
       "      <th>0</th>\n",
       "      <td>1</td>\n",
       "      <td>Defective product</td>\n",
       "      <td>T</td>\n",
       "      <td>Faulty</td>\n",
       "    </tr>\n",
       "    <tr>\n",
       "      <th>1</th>\n",
       "      <td>2</td>\n",
       "      <td>Incomplete product</td>\n",
       "      <td>T</td>\n",
       "      <td>Faulty</td>\n",
       "    </tr>\n",
       "    <tr>\n",
       "      <th>2</th>\n",
       "      <td>3</td>\n",
       "      <td>Wrong product ordered</td>\n",
       "      <td>T</td>\n",
       "      <td>Wrong Product</td>\n",
       "    </tr>\n",
       "    <tr>\n",
       "      <th>3</th>\n",
       "      <td>4</td>\n",
       "      <td>Wrong product shipped</td>\n",
       "      <td>T</td>\n",
       "      <td>Wrong Product</td>\n",
       "    </tr>\n",
       "    <tr>\n",
       "      <th>4</th>\n",
       "      <td>5</td>\n",
       "      <td>Unsatisfactory product</td>\n",
       "      <td>T</td>\n",
       "      <td>Unsatisfactory</td>\n",
       "    </tr>\n",
       "  </tbody>\n",
       "</table>\n",
       "</div>"
      ],
      "text/plain": [
       "  RETURN_REASON_CODE   RETURN_DESCRIPTION_EN TRIAL888 RETURN_CATEGORY\n",
       "0                  1       Defective product        T          Faulty\n",
       "1                  2      Incomplete product        T          Faulty\n",
       "2                  3   Wrong product ordered        T   Wrong Product\n",
       "3                  4   Wrong product shipped        T   Wrong Product\n",
       "4                  5  Unsatisfactory product        T  Unsatisfactory"
      ]
     },
     "execution_count": 61,
     "metadata": {},
     "output_type": "execute_result"
    }
   ],
   "source": [
    "return_reason_dw = return_reason_dw.astype(dict)\n",
    "return_reason_dw.dtypes\n",
    "return_reason_dw"
   ]
  },
  {
   "cell_type": "code",
   "execution_count": 62,
   "metadata": {},
   "outputs": [
    {
     "data": {
      "text/plain": [
       "115"
      ]
     },
     "execution_count": 62,
     "metadata": {},
     "output_type": "execute_result"
    }
   ],
   "source": [
    "return_reason_dw.to_sql('RETURN_REASON', engine, if_exists='replace', index=False)\n",
    "course_dw.to_sql('COURSE', engine, if_exists='replace', index=False)\n",
    "order_method_dw.to_sql('ORDER_METHOD', engine, if_exists='replace', index=False)\n",
    "retailer_contact_dw.to_sql('RETAILER_CONTACT', engine, if_exists='replace', index=False)\n",
    "retailer_headquarters_dw.to_sql('RETAILER_HEADQUARTERS', engine, if_exists='replace', index=False)\n",
    "sales_staff_dw.to_sql('SALES_STAFF', engine, if_exists='replace', index=False)\n",
    "sales_targetdata_dw.to_sql('SALES_TARGETDATA', engine, if_exists='replace', index=False)\n",
    "satisfaction_dw.to_sql('SATISFACTION', engine, if_exists='replace', index=False)\n",
    "satisfaction_type_dw.to_sql('SATISFACTION_TYPE', engine, if_exists='replace', index=False)\n",
    "training_dw.to_sql('TRAINING', engine, if_exists='replace', index=False)\n",
    "sales_demographic_dw.to_sql('SALES_DEMOGRAPHIC', engine, if_exists='replace', index=False)\n",
    "product_dw.to_sql('PRODUCT', engine, if_exists='replace', index=False)"
   ]
  },
  {
   "cell_type": "markdown",
   "metadata": {},
   "source": [
    "# Matplotlib"
   ]
  },
  {
   "cell_type": "code",
   "execution_count": 68,
   "metadata": {},
   "outputs": [
    {
     "data": {
      "image/png": "[encoded data removed]",
      "text/plain": [
       "<Figure size 1000x600 with 1 Axes>"
      ]
     },
     "metadata": {},
     "output_type": "display_data"
    }
   ],
   "source": [
    "\n",
    "# Groepeer de data op productlijn en tel het aantal producten\n",
    "product_per_line = product_dw['PRODUCT_LINE_EN'].value_counts()\n",
    "\n",
    "# Maak een staafdiagram\n",
    "plt.figure(figsize=(10, 6))\n",
    "product_per_line.plot(kind='bar', color='skyblue')\n",
    "plt.title('Aantal Producten per Productlijn')\n",
    "plt.xlabel('Productlijn')\n",
    "plt.ylabel('Aantal Producten')\n",
    "plt.xticks(rotation=45)  # Draai de x-labels voor betere leesbaarheid\n",
    "plt.tight_layout()\n",
    "plt.show()\n"
   ]
  },
  {
   "cell_type": "code",
   "execution_count": 65,
   "metadata": {},
   "outputs": [
    {
     "data": {
      "text/plain": [
       "['ORDER_METHOD_CODE', 'ORDER_METHOD_EN', 'TRIAL888']"
      ]
     },
     "execution_count": 65,
     "metadata": {},
     "output_type": "execute_result"
    }
   ],
   "source": [
    "order_method_dw.columns.to_list()"
   ]
  }
 ],
 "metadata": {
  "kernelspec": {
   "display_name": "Data Warehouse",
   "language": "python",
   "name": "python3"
  },
  "language_info": {
   "codemirror_mode": {
    "name": "ipython",
    "version": 3
   },
   "file_extension": ".py",
   "mimetype": "text/x-python",
   "name": "python",
   "nbconvert_exporter": "python",
   "pygments_lexer": "ipython3",
   "version": "3.12.2"
  }
 },
 "nbformat": 4,
 "nbformat_minor": 2
}
