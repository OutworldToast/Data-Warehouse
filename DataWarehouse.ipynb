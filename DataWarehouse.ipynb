{
 "cells": [
  {
   "cell_type": "markdown",
   "metadata": {},
   "source": [
    "Packages importeren"
   ]
  },
  {
   "cell_type": "code",
   "execution_count": 52,
   "metadata": {},
   "outputs": [],
   "source": [
    "import pandas as pd\n",
    "import numpy as np\n",
    "import datetime as dt\n",
    "import sqlite3"
   ]
  },
  {
   "cell_type": "markdown",
   "metadata": {},
   "source": [
    "Connectie maken met Data Warehouse"
   ]
  },
  {
   "cell_type": "code",
   "execution_count": 53,
   "metadata": {},
   "outputs": [
    {
     "data": {
      "text/plain": [
       "<pyodbc.Cursor at 0x24263f9a530>"
      ]
     },
     "execution_count": 53,
     "metadata": {},
     "output_type": "execute_result"
    }
   ],
   "source": [
    "DB = {'servername': 'ENVY-AKRAM\\\\SQLEXPRESS','database': 'Great Outdoors - Akram en Sylvan'}\n",
    "export_conn = pyodbc.connect('DRIVER={SQL Server};SERVER=' + DB['servername'] + ';DATABASE=' + DB['database'] + ';Trusted_Connection=yes')\n",
    "export_cursor = export_conn.cursor()\n",
    "export_cursor"
   ]
  },
  {
   "cell_type": "markdown",
   "metadata": {},
   "source": [
    "Connectie maken met brongegevens"
   ]
  },
  {
   "cell_type": "code",
   "execution_count": 58,
   "metadata": {},
   "outputs": [
    {
     "name": "stdout",
     "output_type": "stream",
     "text": [
      "      INVENTORY_YEAR  INVENTORY_MONTH  PRODUCT_NUMBER  INVENTORY_COUNT\n",
      "2021               4               48            1932              NaN\n",
      "2021               4               49            1400              NaN\n",
      "2021               4               50           21705              NaN\n",
      "2021               4               51            9710              NaN\n",
      "2021               4               52            5616              NaN\n",
      "...              ...              ...             ...              ...\n",
      "2022              12              111            1128              NaN\n",
      "2022              12              112            7810              NaN\n",
      "2022              12              113            3485              NaN\n",
      "2022              12              114             350              NaN\n",
      "2022              12              115            3310              NaN\n",
      "\n",
      "[3888 rows x 4 columns]\n"
     ]
    }
   ],
   "source": [
    "import pandas as pd\n",
    "go_sales_connection = sqlite3.connect('Data\\\\Brongegevens\\\\go_sales.sqlite')\n",
    "go_crm_connection = sqlite3.connect('Data\\\\Brongegevens\\\\go_crm.sqlite')\n",
    "go_staff_connection = sqlite3.connect('Data\\\\Brongegevens\\\\go_staff.sqlite')\n",
    "\n",
    "\n",
    "\n",
    "# Read the CSV file into a pandas DataFrame\n",
    "df_inventory = pd.read_csv('Data\\\\Brongegevens\\\\GO_SALES_INVENTORY_LEVELSData.csv')\n",
    "df_product = pd.read_csv('Data\\\\Brongegevens\\\\GO_SALES_PRODUCT_FORECASTData.csv')\n",
    "\n",
    "\n",
    "# Display the DataFrame\n",
    "print(df_inventory)\n",
    "\n",
    "\n",
    "\n"
   ]
  },
  {
   "cell_type": "markdown",
   "metadata": {},
   "source": [
    "Helper functie tables inlezen"
   ]
  },
  {
   "cell_type": "code",
   "execution_count": 62,
   "metadata": {},
   "outputs": [],
   "source": [
    "def readTable(connection, table):\n",
    "    query = 'SELECT * FROM ' + table\n",
    "    return pd.read_sql_query(query, connection)"
   ]
  },
  {
   "cell_type": "markdown",
   "metadata": {},
   "source": [
    "Database Go Sales"
   ]
  },
  {
   "cell_type": "code",
   "execution_count": 63,
   "metadata": {},
   "outputs": [
    {
     "data": {
      "text/html": [
       "<div>\n",
       "<style scoped>\n",
       "    .dataframe tbody tr th:only-of-type {\n",
       "        vertical-align: middle;\n",
       "    }\n",
       "\n",
       "    .dataframe tbody tr th {\n",
       "        vertical-align: top;\n",
       "    }\n",
       "\n",
       "    .dataframe thead th {\n",
       "        text-align: right;\n",
       "    }\n",
       "</style>\n",
       "<table border=\"1\" class=\"dataframe\">\n",
       "  <thead>\n",
       "    <tr style=\"text-align: right;\">\n",
       "      <th></th>\n",
       "      <th>name</th>\n",
       "    </tr>\n",
       "  </thead>\n",
       "  <tbody>\n",
       "    <tr>\n",
       "      <th>0</th>\n",
       "      <td>country</td>\n",
       "    </tr>\n",
       "    <tr>\n",
       "      <th>1</th>\n",
       "      <td>order_details</td>\n",
       "    </tr>\n",
       "    <tr>\n",
       "      <th>2</th>\n",
       "      <td>order_header</td>\n",
       "    </tr>\n",
       "    <tr>\n",
       "      <th>3</th>\n",
       "      <td>order_method</td>\n",
       "    </tr>\n",
       "    <tr>\n",
       "      <th>4</th>\n",
       "      <td>product</td>\n",
       "    </tr>\n",
       "    <tr>\n",
       "      <th>5</th>\n",
       "      <td>product_line</td>\n",
       "    </tr>\n",
       "    <tr>\n",
       "      <th>6</th>\n",
       "      <td>product_type</td>\n",
       "    </tr>\n",
       "    <tr>\n",
       "      <th>7</th>\n",
       "      <td>retailer_site</td>\n",
       "    </tr>\n",
       "    <tr>\n",
       "      <th>8</th>\n",
       "      <td>return_reason</td>\n",
       "    </tr>\n",
       "    <tr>\n",
       "      <th>9</th>\n",
       "      <td>returned_item</td>\n",
       "    </tr>\n",
       "    <tr>\n",
       "      <th>10</th>\n",
       "      <td>sales_branch</td>\n",
       "    </tr>\n",
       "    <tr>\n",
       "      <th>11</th>\n",
       "      <td>sales_staff</td>\n",
       "    </tr>\n",
       "    <tr>\n",
       "      <th>12</th>\n",
       "      <td>SALES_TARGETData</td>\n",
       "    </tr>\n",
       "    <tr>\n",
       "      <th>13</th>\n",
       "      <td>sqlite_sequence</td>\n",
       "    </tr>\n",
       "  </tbody>\n",
       "</table>\n",
       "</div>"
      ],
      "text/plain": [
       "                name\n",
       "0            country\n",
       "1      order_details\n",
       "2       order_header\n",
       "3       order_method\n",
       "4            product\n",
       "5       product_line\n",
       "6       product_type\n",
       "7      retailer_site\n",
       "8      return_reason\n",
       "9      returned_item\n",
       "10      sales_branch\n",
       "11       sales_staff\n",
       "12  SALES_TARGETData\n",
       "13   sqlite_sequence"
      ]
     },
     "execution_count": 63,
     "metadata": {},
     "output_type": "execute_result"
    }
   ],
   "source": [
    "tables = pd.read_sql('SELECT name FROM sqlite_master WHERE type=\"table\"', go_sales_connection)\n",
    "country = readTable(go_sales_connection, 'country')\n",
    "order_details = readTable(go_sales_connection, 'order_details')\n",
    "order_header = readTable(go_sales_connection, 'order_header')\n",
    "product = readTable(go_sales_connection, 'product')\n",
    "product_line = readTable(go_sales_connection, 'product_line')\n",
    "product_type = readTable(go_sales_connection, 'product_type')\n",
    "retailer_site = readTable(go_sales_connection, 'retailer_site')\n",
    "return_reason = readTable(go_sales_connection, 'return_reason')\n",
    "sales_branch = readTable(go_sales_connection, 'sales_branch')\n",
    "sales_staff = readTable(go_sales_connection, 'sales_staff')\n",
    "sales_targetdata = readTable(go_sales_connection, 'SALES_TARGETData')\n",
    "tables  \n"
   ]
  },
  {
   "cell_type": "markdown",
   "metadata": {},
   "source": [
    "Database Go Staff"
   ]
  },
  {
   "cell_type": "code",
   "execution_count": 71,
   "metadata": {},
   "outputs": [
    {
     "data": {
      "text/html": [
       "<div>\n",
       "<style scoped>\n",
       "    .dataframe tbody tr th:only-of-type {\n",
       "        vertical-align: middle;\n",
       "    }\n",
       "\n",
       "    .dataframe tbody tr th {\n",
       "        vertical-align: top;\n",
       "    }\n",
       "\n",
       "    .dataframe thead th {\n",
       "        text-align: right;\n",
       "    }\n",
       "</style>\n",
       "<table border=\"1\" class=\"dataframe\">\n",
       "  <thead>\n",
       "    <tr style=\"text-align: right;\">\n",
       "      <th></th>\n",
       "      <th>name</th>\n",
       "    </tr>\n",
       "  </thead>\n",
       "  <tbody>\n",
       "    <tr>\n",
       "      <th>0</th>\n",
       "      <td>course</td>\n",
       "    </tr>\n",
       "    <tr>\n",
       "      <th>1</th>\n",
       "      <td>sales_branch</td>\n",
       "    </tr>\n",
       "    <tr>\n",
       "      <th>2</th>\n",
       "      <td>sales_staff</td>\n",
       "    </tr>\n",
       "    <tr>\n",
       "      <th>3</th>\n",
       "      <td>satisfaction</td>\n",
       "    </tr>\n",
       "    <tr>\n",
       "      <th>4</th>\n",
       "      <td>satisfaction_type</td>\n",
       "    </tr>\n",
       "    <tr>\n",
       "      <th>5</th>\n",
       "      <td>training</td>\n",
       "    </tr>\n",
       "  </tbody>\n",
       "</table>\n",
       "</div>"
      ],
      "text/plain": [
       "                name\n",
       "0             course\n",
       "1       sales_branch\n",
       "2        sales_staff\n",
       "3       satisfaction\n",
       "4  satisfaction_type\n",
       "5           training"
      ]
     },
     "execution_count": 71,
     "metadata": {},
     "output_type": "execute_result"
    }
   ],
   "source": [
    "tables = pd.read_sql('SELECT name FROM sqlite_master WHERE type=\"table\"', go_staff_connection)\n",
    "course = readTable(go_staff_connection, 'course')\n",
    "sales_branch = readTable(go_staff_connection, 'sales_branch')\n",
    "sales_staff = readTable(go_staff_connection, 'sales_staff')\n",
    "satisfaction = readTable(go_staff_connection, 'satisfaction')\n",
    "satisfaction_type = readTable(go_staff_connection, 'satisfaction_type')\n",
    "training = readTable(go_staff_connection, 'training')\n",
    "tables\n"
   ]
  },
  {
   "cell_type": "markdown",
   "metadata": {},
   "source": [
    "Database Go Crm"
   ]
  },
  {
   "cell_type": "code",
   "execution_count": 70,
   "metadata": {},
   "outputs": [
    {
     "data": {
      "text/html": [
       "<div>\n",
       "<style scoped>\n",
       "    .dataframe tbody tr th:only-of-type {\n",
       "        vertical-align: middle;\n",
       "    }\n",
       "\n",
       "    .dataframe tbody tr th {\n",
       "        vertical-align: top;\n",
       "    }\n",
       "\n",
       "    .dataframe thead th {\n",
       "        text-align: right;\n",
       "    }\n",
       "</style>\n",
       "<table border=\"1\" class=\"dataframe\">\n",
       "  <thead>\n",
       "    <tr style=\"text-align: right;\">\n",
       "      <th></th>\n",
       "      <th>name</th>\n",
       "    </tr>\n",
       "  </thead>\n",
       "  <tbody>\n",
       "    <tr>\n",
       "      <th>0</th>\n",
       "      <td>age_group</td>\n",
       "    </tr>\n",
       "    <tr>\n",
       "      <th>1</th>\n",
       "      <td>country</td>\n",
       "    </tr>\n",
       "    <tr>\n",
       "      <th>2</th>\n",
       "      <td>retailer</td>\n",
       "    </tr>\n",
       "    <tr>\n",
       "      <th>3</th>\n",
       "      <td>retailer_contact</td>\n",
       "    </tr>\n",
       "    <tr>\n",
       "      <th>4</th>\n",
       "      <td>retailer_headquarters</td>\n",
       "    </tr>\n",
       "    <tr>\n",
       "      <th>5</th>\n",
       "      <td>retailer_segment</td>\n",
       "    </tr>\n",
       "    <tr>\n",
       "      <th>6</th>\n",
       "      <td>retailer_site</td>\n",
       "    </tr>\n",
       "    <tr>\n",
       "      <th>7</th>\n",
       "      <td>retailer_type</td>\n",
       "    </tr>\n",
       "    <tr>\n",
       "      <th>8</th>\n",
       "      <td>sales_demographic</td>\n",
       "    </tr>\n",
       "    <tr>\n",
       "      <th>9</th>\n",
       "      <td>sales_territory</td>\n",
       "    </tr>\n",
       "  </tbody>\n",
       "</table>\n",
       "</div>"
      ],
      "text/plain": [
       "                    name\n",
       "0              age_group\n",
       "1                country\n",
       "2               retailer\n",
       "3       retailer_contact\n",
       "4  retailer_headquarters\n",
       "5       retailer_segment\n",
       "6          retailer_site\n",
       "7          retailer_type\n",
       "8      sales_demographic\n",
       "9        sales_territory"
      ]
     },
     "execution_count": 70,
     "metadata": {},
     "output_type": "execute_result"
    }
   ],
   "source": [
    "tables = pd.read_sql('SELECT name FROM sqlite_master WHERE type=\"table\"', go_crm_connection)\n",
    "age_group = readTable(go_crm_connection, 'age_group')\n",
    "country = readTable(go_crm_connection, 'country')\n",
    "retailer = readTable(go_crm_connection, 'retailer')\n",
    "retailer_contact = readTable(go_crm_connection, 'retailer_contact')\n",
    "retailer_headquarters = readTable(go_crm_connection, 'retailer_headquarters')\n",
    "retailer_segment = readTable(go_crm_connection, 'retailer_segment')\n",
    "retailer_site = readTable(go_crm_connection, 'retailer_site')\n",
    "retailer_type = readTable(go_crm_connection, 'retailer_type')\n",
    "sales_demographic = readTable(go_crm_connection, 'sales_demographic')\n",
    "sales_territory = readTable(go_crm_connection, 'sales_territory')\n",
    "tables\n"
   ]
  },
  {
   "cell_type": "code",
   "execution_count": null,
   "metadata": {},
   "outputs": [],
   "source": []
  },
  {
   "cell_type": "markdown",
   "metadata": {},
   "source": []
  }
 ],
 "metadata": {
  "kernelspec": {
   "display_name": "Data Warehouse",
   "language": "python",
   "name": "python3"
  },
  "language_info": {
   "codemirror_mode": {
    "name": "ipython",
    "version": 3
   },
   "file_extension": ".py",
   "mimetype": "text/x-python",
   "name": "python",
   "nbconvert_exporter": "python",
   "pygments_lexer": "ipython3",
   "version": "3.12.2"
  }
 },
 "nbformat": 4,
 "nbformat_minor": 2
}
